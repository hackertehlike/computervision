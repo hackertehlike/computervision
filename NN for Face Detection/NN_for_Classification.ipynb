{
  "nbformat": 4,
  "nbformat_minor": 0,
  "metadata": {
    "colab": {
      "name": "NN for Classification.ipynb",
      "provenance": [],
      "collapsed_sections": [
        "mhov1wphpKab"
      ]
    },
    "kernelspec": {
      "name": "python3",
      "display_name": "Python 3"
    },
    "language_info": {
      "name": "python"
    }
  },
  "cells": [
    {
      "cell_type": "markdown",
      "source": [
        "# Approach 1: All pixels\n"
      ],
      "metadata": {
        "id": "mhov1wphpKab"
      }
    },
    {
      "cell_type": "markdown",
      "source": [
        "Import libraries:"
      ],
      "metadata": {
        "id": "BCbJRAdP7SsQ"
      }
    },
    {
      "cell_type": "code",
      "execution_count": null,
      "metadata": {
        "id": "6Era-Ucxx6AH"
      },
      "outputs": [],
      "source": [
        "import cv2\n",
        "import numpy as np\n",
        "import os\n",
        "import zipfile\n",
        "from google.colab.patches import cv2_imshow\n",
        "import tensorflow as tf\n",
        "import pandas as pd\n",
        "import seaborn as sns\n",
        "import matplotlib.pyplot as plt"
      ]
    },
    {
      "cell_type": "code",
      "source": [
        "from google.colab import drive\n",
        "drive.mount('/content/drive')"
      ],
      "metadata": {
        "colab": {
          "base_uri": "https://localhost:8080/"
        },
        "id": "0m2-dMb1yKPF",
        "outputId": "8381c9c1-9959-4129-c788-6cc1b7797de8"
      },
      "execution_count": null,
      "outputs": [
        {
          "output_type": "stream",
          "name": "stdout",
          "text": [
            "Mounted at /content/drive\n"
          ]
        }
      ]
    },
    {
      "cell_type": "markdown",
      "source": [
        "Unzip the files:"
      ],
      "metadata": {
        "id": "JYiDF9c27V3o"
      }
    },
    {
      "cell_type": "code",
      "source": [
        "path = '/content/drive/MyDrive/Coding/NeuralNetworks4Classification/homer_bart_1.zip'\n",
        "zip_object = zipfile.ZipFile(file = path, mode = 'r')\n",
        "zip_object.extractall('./')\n",
        "zip_object.close()"
      ],
      "metadata": {
        "id": "6tQ6s4QyygYj"
      },
      "execution_count": null,
      "outputs": []
    },
    {
      "cell_type": "markdown",
      "source": [
        "Sorts the images in the directory alphabetically and prepends the directory path to get the complete path for each image:"
      ],
      "metadata": {
        "id": "iM3cdqmmFPNz"
      }
    },
    {
      "cell_type": "code",
      "source": [
        "directory = '/content/homer_bart_1'\n",
        "files = [os.path.join(directory,f) for f in sorted(os.listdir(directory))]"
      ],
      "metadata": {
        "id": "c6VqZQqDzHef"
      },
      "execution_count": null,
      "outputs": []
    },
    {
      "cell_type": "code",
      "source": [
        "height, width = 128, 128"
      ],
      "metadata": {
        "id": "ZHrdvZjm0HJp"
      },
      "execution_count": null,
      "outputs": []
    },
    {
      "cell_type": "code",
      "source": [
        "images = []\n",
        "classes = []"
      ],
      "metadata": {
        "id": "Fk3soSsR0Yc8"
      },
      "execution_count": null,
      "outputs": []
    },
    {
      "cell_type": "markdown",
      "source": [
        "Preprocess the images:"
      ],
      "metadata": {
        "id": "s9odJ1Dp7YzH"
      }
    },
    {
      "cell_type": "code",
      "source": [
        "for image_path in files:\n",
        "  try:\n",
        "    image = cv2.imread(image_path)\n",
        "    image.shape[:2]\n",
        "  except:\n",
        "    continue\n",
        "  # resize and transform to grayscale\n",
        "  image = cv2.resize(image, (width, height))\n",
        "  image = cv2.cvtColor(image, cv2.COLOR_BGR2GRAY)\n",
        "\n",
        "  cv2_imshow(image)\n",
        "\n",
        "  # flatten into 1d array\n",
        "  image = image.ravel()\n",
        "\n",
        "  # append to training input\n",
        "  images.append(image)\n",
        "\n",
        "  # create labels\n",
        "  image_name = os.path.basename(os.path.normpath(image_path))\n",
        "  if image_name.startswith('b'):\n",
        "    class_name = 0\n",
        "  else:\n",
        "    class_name = 1\n",
        "\n",
        "  # append to training label\n",
        "  classes.append(class_name)"
      ],
      "metadata": {
        "id": "eDzIRmK_0a2V"
      },
      "execution_count": null,
      "outputs": []
    },
    {
      "cell_type": "markdown",
      "source": [
        "Convert X and y to numpy array:\n"
      ],
      "metadata": {
        "id": "E8n1uezo6p5a"
      }
    },
    {
      "cell_type": "code",
      "source": [
        "X = np.asarray(images)\n",
        "y = np.asarray(classes)"
      ],
      "metadata": {
        "id": "Z6jCx6PE0avj"
      },
      "execution_count": null,
      "outputs": []
    },
    {
      "cell_type": "markdown",
      "source": [
        "Normalize the data:\n"
      ],
      "metadata": {
        "id": "xvHncg9A55V1"
      }
    },
    {
      "cell_type": "code",
      "source": [
        "from sklearn.preprocessing import MinMaxScaler\n",
        "scaler = MinMaxScaler()\n",
        "X = scaler.fit_transform(X)"
      ],
      "metadata": {
        "id": "fWqqcJ3w4gCK"
      },
      "execution_count": null,
      "outputs": []
    },
    {
      "cell_type": "markdown",
      "source": [
        "Split train and test sets:"
      ],
      "metadata": {
        "id": "QX2OZ4Z57ayN"
      }
    },
    {
      "cell_type": "code",
      "source": [
        "from sklearn.model_selection import train_test_split"
      ],
      "metadata": {
        "id": "aoqk-y6y7cl0"
      },
      "execution_count": null,
      "outputs": []
    },
    {
      "cell_type": "code",
      "source": [
        "X_train, X_test, y_train, y_test = train_test_split(X,y, test_size = 0.2, random_state = 1)"
      ],
      "metadata": {
        "id": "kvXx02nJ7f9Z"
      },
      "execution_count": null,
      "outputs": []
    },
    {
      "cell_type": "code",
      "source": [
        "X_train.shape, y_train.shape, X_test.shape, y_test.shape"
      ],
      "metadata": {
        "colab": {
          "base_uri": "https://localhost:8080/"
        },
        "id": "KuocIeax7pKu",
        "outputId": "940447ca-edab-46e5-b75b-7da83cc08071"
      },
      "execution_count": null,
      "outputs": [
        {
          "output_type": "execute_result",
          "data": {
            "text/plain": [
              "((215, 16384), (215,), (54, 16384), (54,))"
            ]
          },
          "metadata": {},
          "execution_count": 12
        }
      ]
    },
    {
      "cell_type": "markdown",
      "source": [
        "Building the neural network:"
      ],
      "metadata": {
        "id": "d2Pd2v6n8V9P"
      }
    },
    {
      "cell_type": "code",
      "source": [
        "network = tf.keras.Sequential()"
      ],
      "metadata": {
        "id": "JOQWVq7C8YFs"
      },
      "execution_count": null,
      "outputs": []
    },
    {
      "cell_type": "code",
      "source": [
        "network.add(tf.keras.layers.Dense(input_shape = (16384,), units = 8193, activation = 'relu'))\n",
        "network.add(tf.keras.layers.Dense(units = 8193, activation = 'relu'))\n",
        "network.add(tf.keras.layers.Dense(units = 1, activation = 'sigmoid'))\n",
        "#network.build()"
      ],
      "metadata": {
        "id": "F38VRfTT8bY4"
      },
      "execution_count": null,
      "outputs": []
    },
    {
      "cell_type": "code",
      "source": [
        "network.summary()"
      ],
      "metadata": {
        "id": "ZtxJt4ppARnv",
        "colab": {
          "base_uri": "https://localhost:8080/"
        },
        "outputId": "56698dcf-f3ea-4334-b7f5-edca3353678d"
      },
      "execution_count": null,
      "outputs": [
        {
          "output_type": "stream",
          "name": "stdout",
          "text": [
            "Model: \"sequential\"\n",
            "_________________________________________________________________\n",
            " Layer (type)                Output Shape              Param #   \n",
            "=================================================================\n",
            " dense (Dense)               (None, 8193)              134242305 \n",
            "                                                                 \n",
            " dense_1 (Dense)             (None, 8193)              67133442  \n",
            "                                                                 \n",
            " dense_2 (Dense)             (None, 1)                 8194      \n",
            "                                                                 \n",
            "=================================================================\n",
            "Total params: 201,383,941\n",
            "Trainable params: 201,383,941\n",
            "Non-trainable params: 0\n",
            "_________________________________________________________________\n"
          ]
        }
      ]
    },
    {
      "cell_type": "code",
      "source": [
        "network.compile(optimizer='Adam', loss='binary_crossentropy', metrics = ['accuracy'])"
      ],
      "metadata": {
        "id": "mRx58CmVEjy0"
      },
      "execution_count": null,
      "outputs": []
    },
    {
      "cell_type": "code",
      "source": [
        "history = network.fit(X_train, y_train, epochs = 50)"
      ],
      "metadata": {
        "id": "kcgYCSjYEqrL"
      },
      "execution_count": null,
      "outputs": []
    },
    {
      "cell_type": "code",
      "source": [
        "plt.plot(history.history['loss'])"
      ],
      "metadata": {
        "colab": {
          "base_uri": "https://localhost:8080/",
          "height": 284
        },
        "id": "irdjbGZIGkt_",
        "outputId": "d2ba1edf-4025-4e1f-e88a-ac30a4054dbf"
      },
      "execution_count": null,
      "outputs": [
        {
          "output_type": "execute_result",
          "data": {
            "text/plain": [
              "[<matplotlib.lines.Line2D at 0x7f127e663490>]"
            ]
          },
          "metadata": {},
          "execution_count": 37
        },
        {
          "output_type": "display_data",
          "data": {
            "text/plain": [
              "<Figure size 432x288 with 1 Axes>"
            ],
            "image/png": "[encoded data removed]"
          },
          "metadata": {
            "needs_background": "light"
          }
        }
      ]
    },
    {
      "cell_type": "code",
      "source": [
        "plt.plot(history.history['accuracy'])"
      ],
      "metadata": {
        "colab": {
          "base_uri": "https://localhost:8080/",
          "height": 283
        },
        "id": "Gfx9mJ2hGtRn",
        "outputId": "bcf5280e-ed64-4c25-e324-77c37c25f963"
      },
      "execution_count": null,
      "outputs": [
        {
          "output_type": "execute_result",
          "data": {
            "text/plain": [
              "[<matplotlib.lines.Line2D at 0x7f127e5cc850>]"
            ]
          },
          "metadata": {},
          "execution_count": 38
        },
        {
          "output_type": "display_data",
          "data": {
            "text/plain": [
              "<Figure size 432x288 with 1 Axes>"
            ],
            "image/png": "[encoded data removed]"
          },
          "metadata": {
            "needs_background": "light"
          }
        }
      ]
    },
    {
      "cell_type": "code",
      "source": [
        "X_test.shape"
      ],
      "metadata": {
        "colab": {
          "base_uri": "https://localhost:8080/"
        },
        "id": "YDUAD6WrGwI6",
        "outputId": "c68231f4-81a6-4fc9-bad2-a474b2aa156a"
      },
      "execution_count": null,
      "outputs": [
        {
          "output_type": "execute_result",
          "data": {
            "text/plain": [
              "(54, 16384)"
            ]
          },
          "metadata": {},
          "execution_count": 20
        }
      ]
    },
    {
      "cell_type": "code",
      "source": [
        "predictions = network.predict(X_test)\n",
        "predictions"
      ],
      "metadata": {
        "id": "EJkCDI16GySJ"
      },
      "execution_count": null,
      "outputs": []
    },
    {
      "cell_type": "code",
      "source": [
        "predictions = (predictions > 0.5)"
      ],
      "metadata": {
        "id": "8SLjUNhkG1of"
      },
      "execution_count": null,
      "outputs": []
    },
    {
      "cell_type": "code",
      "source": [
        "predictions"
      ],
      "metadata": {
        "id": "dLdvcN2AHJgl"
      },
      "execution_count": null,
      "outputs": []
    },
    {
      "cell_type": "code",
      "source": [
        "y_test"
      ],
      "metadata": {
        "colab": {
          "base_uri": "https://localhost:8080/"
        },
        "id": "HF3ZvkkuHH1g",
        "outputId": "c64b8108-81e5-45d4-e367-360340258371"
      },
      "execution_count": null,
      "outputs": [
        {
          "output_type": "execute_result",
          "data": {
            "text/plain": [
              "array([0, 1, 0, 0, 0, 1, 0, 0, 0, 0, 0, 1, 1, 0, 1, 1, 1, 1, 0, 0, 0, 1,\n",
              "       0, 0, 0, 1, 0, 0, 1, 1, 1, 1, 1, 1, 1, 1, 0, 0, 0, 0, 1, 1, 0, 0,\n",
              "       0, 1, 1, 0, 0, 1, 0, 1, 1, 1])"
            ]
          },
          "metadata": {},
          "execution_count": 24
        }
      ]
    },
    {
      "cell_type": "code",
      "source": [
        "from sklearn.metrics import accuracy_score\n",
        "accuracy_score(y_test, predictions)"
      ],
      "metadata": {
        "colab": {
          "base_uri": "https://localhost:8080/"
        },
        "id": "ECjnUiUqHTqQ",
        "outputId": "ce59157d-c06d-4817-85ad-b16b275ca8b7"
      },
      "execution_count": null,
      "outputs": [
        {
          "output_type": "execute_result",
          "data": {
            "text/plain": [
              "0.5740740740740741"
            ]
          },
          "metadata": {},
          "execution_count": 42
        }
      ]
    },
    {
      "cell_type": "markdown",
      "source": [
        "#How to save the network:"
      ],
      "metadata": {
        "id": "vD8JQ1YYhm1e"
      }
    },
    {
      "cell_type": "code",
      "source": [
        "model_json = network.to_json()\n",
        "with open('network.json', 'w') as json_file:\n",
        "  json_file.write(model_json)"
      ],
      "metadata": {
        "id": "cYdz6zfahoAf",
        "colab": {
          "base_uri": "https://localhost:8080/",
          "height": 207
        },
        "outputId": "ebb45bd1-a812-42f1-e0ea-a0cf9aa2863c"
      },
      "execution_count": null,
      "outputs": [
        {
          "output_type": "error",
          "ename": "NameError",
          "evalue": "ignored",
          "traceback": [
            "\u001b[0;31m---------------------------------------------------------------------------\u001b[0m",
            "\u001b[0;31mNameError\u001b[0m                                 Traceback (most recent call last)",
            "\u001b[0;32m<ipython-input-5-498557cc85ee>\u001b[0m in \u001b[0;36m<module>\u001b[0;34m()\u001b[0m\n\u001b[0;32m----> 1\u001b[0;31m \u001b[0mmodel_json\u001b[0m \u001b[0;34m=\u001b[0m \u001b[0mnetwork\u001b[0m\u001b[0;34m.\u001b[0m\u001b[0mto_json\u001b[0m\u001b[0;34m(\u001b[0m\u001b[0;34m)\u001b[0m\u001b[0;34m\u001b[0m\u001b[0;34m\u001b[0m\u001b[0m\n\u001b[0m\u001b[1;32m      2\u001b[0m \u001b[0;32mwith\u001b[0m \u001b[0mopen\u001b[0m\u001b[0;34m(\u001b[0m\u001b[0;34m'network.json'\u001b[0m\u001b[0;34m,\u001b[0m \u001b[0;34m'w'\u001b[0m\u001b[0;34m)\u001b[0m \u001b[0;32mas\u001b[0m \u001b[0mjson_file\u001b[0m\u001b[0;34m:\u001b[0m\u001b[0;34m\u001b[0m\u001b[0;34m\u001b[0m\u001b[0m\n\u001b[1;32m      3\u001b[0m   \u001b[0mjson_file\u001b[0m\u001b[0;34m.\u001b[0m\u001b[0mwrite\u001b[0m\u001b[0;34m(\u001b[0m\u001b[0mmodel_json\u001b[0m\u001b[0;34m)\u001b[0m\u001b[0;34m\u001b[0m\u001b[0;34m\u001b[0m\u001b[0m\n",
            "\u001b[0;31mNameError\u001b[0m: name 'network' is not defined"
          ]
        }
      ]
    },
    {
      "cell_type": "code",
      "source": [
        "from keras.models import save_model\n",
        "network_saved = save_model(network, 'weights.hdf5')"
      ],
      "metadata": {
        "id": "Zo02tSawiG71"
      },
      "execution_count": null,
      "outputs": []
    },
    {
      "cell_type": "markdown",
      "source": [
        "#How to load the network:"
      ],
      "metadata": {
        "id": "XDLPkquwjean"
      }
    },
    {
      "cell_type": "code",
      "source": [
        "with open('network.json') as json_file:\n",
        "  json_saved_model = json_file.read()"
      ],
      "metadata": {
        "id": "O3mpu4_EiSBt"
      },
      "execution_count": null,
      "outputs": []
    },
    {
      "cell_type": "code",
      "source": [
        "network_loaded = tf.keras.models.model_from_json(json_saved_model)\n",
        "network_loaded.load_weights('/content/weights.hdf5')\n",
        "network_loaded.compile(loss = 'binary_crossentropy', optimizer= 'Adam', metrics = ['accuracy'])"
      ],
      "metadata": {
        "id": "_bFjwjE3iinJ"
      },
      "execution_count": null,
      "outputs": []
    },
    {
      "cell_type": "code",
      "source": [
        "network_loaded.summary()"
      ],
      "metadata": {
        "colab": {
          "base_uri": "https://localhost:8080/"
        },
        "id": "7n_4TNoUkLd0",
        "outputId": "8b42ac6a-c36d-4582-c169-2cd351db088f"
      },
      "execution_count": null,
      "outputs": [
        {
          "output_type": "stream",
          "name": "stdout",
          "text": [
            "Model: \"sequential\"\n",
            "_________________________________________________________________\n",
            " Layer (type)                Output Shape              Param #   \n",
            "=================================================================\n",
            " dense (Dense)               (None, 8193)              134242305 \n",
            "                                                                 \n",
            " dense_1 (Dense)             (None, 8193)              67133442  \n",
            "                                                                 \n",
            " dense_2 (Dense)             (None, 1)                 8194      \n",
            "                                                                 \n",
            "=================================================================\n",
            "Total params: 201,383,941\n",
            "Trainable params: 201,383,941\n",
            "Non-trainable params: 0\n",
            "_________________________________________________________________\n"
          ]
        }
      ]
    },
    {
      "cell_type": "markdown",
      "source": [
        "Classifying images:"
      ],
      "metadata": {
        "id": "JgBZB5l5nHk2"
      }
    },
    {
      "cell_type": "code",
      "source": [
        "test_img = X_test[0]\n",
        "test_img = scaler.inverse_transform(test_img.reshape(1, -1))"
      ],
      "metadata": {
        "id": "gaGlYaqpm63l"
      },
      "execution_count": null,
      "outputs": []
    },
    {
      "cell_type": "code",
      "source": [
        "network_loaded.predict(test_img)"
      ],
      "metadata": {
        "colab": {
          "base_uri": "https://localhost:8080/"
        },
        "id": "JyQCft3mni_f",
        "outputId": "7680aaf6-e139-456c-d3d3-cb235153d6b4"
      },
      "execution_count": null,
      "outputs": [
        {
          "output_type": "execute_result",
          "data": {
            "text/plain": [
              "array([[0.]], dtype=float32)"
            ]
          },
          "metadata": {},
          "execution_count": 44
        }
      ]
    },
    {
      "cell_type": "markdown",
      "source": [
        "# Approach 2: Feature Extraction:"
      ],
      "metadata": {
        "id": "-9Czc3J3oDVH"
      }
    },
    {
      "cell_type": "code",
      "source": [
        "files = [os.path.join(directory,f) for f in sorted(os.listdir(directory))]"
      ],
      "metadata": {
        "id": "fvNdIkdioDHm"
      },
      "execution_count": null,
      "outputs": []
    },
    {
      "cell_type": "markdown",
      "source": [
        "Define headers for features data:"
      ],
      "metadata": {
        "id": "gL54qL5PGYFn"
      }
    },
    {
      "cell_type": "code",
      "source": [
        "export = 'CHIN, PANTS, SHOES, TSHIRT, SHORT, SNEAKERS, CLASS\\n'"
      ],
      "metadata": {
        "id": "rjYGOnXdGUXF"
      },
      "execution_count": null,
      "outputs": []
    },
    {
      "cell_type": "code",
      "source": [
        "features = []\n",
        "show_images = False"
      ],
      "metadata": {
        "id": "ct78D8aPpVyO"
      },
      "execution_count": null,
      "outputs": []
    },
    {
      "cell_type": "code",
      "source": [
        "for image_path in files:\n",
        "  try:\n",
        "    original_image = cv2.imread(image_path)\n",
        "    (H,W) = original_image.shape[:2]\n",
        "  except:\n",
        "    continue\n",
        "\n",
        "  image = original_image.copy()\n",
        "  image_features = []\n",
        "\n",
        "  CHIN = PANTS = SHOES = 0\n",
        "  TSHIRT = SHORTS = SNEAKERS = 0\n",
        "\n",
        "  image_name = os.path.basename(os.path.normpath(image_path))\n",
        "\n",
        "  if(image_name.startswith('b')):\n",
        "    class_name = 0\n",
        "  else:\n",
        "    class_name = 1\n",
        "\n",
        "  for height in range(0,H):\n",
        "    for width in range (0,W):\n",
        "      blue = image.item(height, width, 0)\n",
        "      green = image.item(height, width, 1)\n",
        "      red = image.item(height, width, 2)\n",
        "\n",
        "      # Homer's chin color - brown:\n",
        "      if (blue >= 95 and blue <= 140 and green >= 160 and green <= 185 and red >= 175 and red <= 200):\n",
        "        image[height, width] = (255, 255, 0)\n",
        "        CHIN += 1\n",
        "\n",
        "      # Homer's pants color - blue:\n",
        "      if (blue >= 150 and blue <= 180 and green >= 98 and green <= 120 and red >= 0 and red <= 90):\n",
        "        image[height, width] = [0, 255, 255]\n",
        "        PANTS += 1\n",
        "      \n",
        "      # Homer's shoes - gray\n",
        "      # Usually the shoes are in the bottom half of the picture\n",
        "      if height > (H / 2):\n",
        "        if (blue >= 25 and blue <= 45 and green >= 25 and green <= 45 and red >= 25 and red <= 45):\n",
        "          image[height, width] = [0, 255, 255]\n",
        "          SHOES += 1\n",
        "\n",
        "\n",
        "      # Bart's t-shirt - orange:\n",
        "      if (blue >= 11 and blue <= 22 and green >= 85 and green <= 105 and red >= 240 and red <= 255):\n",
        "        image[height, width] = [0, 255, 128]\n",
        "        TSHIRT += 1\n",
        "\n",
        "      # Bart - blue shorts\n",
        "      if (blue >= 125 and blue <= 170 and green >= 0 and green <= 12 and red >= 0 and red <= 20):\n",
        "        image[height, width] = [0, 255, 128]\n",
        "        SHORTS += 1\n",
        "\n",
        "      # Bart - blue sneakers\n",
        "      if height > (H / 2):\n",
        "        if (blue >= 125 and blue <= 170 and green >= 0 and green <= 12 and red >= 0 and red <= 20):\n",
        "          image[height, width] = [0, 255, 128]\n",
        "          SNEAKERS += 1\n",
        "\n",
        "      \n",
        "\n",
        "\n",
        "  # The images have different sizes, so use percentage\n",
        "  CHIN = round((CHIN / (H * W)) * 100, 9)\n",
        "  PANTS = round((PANTS / (H * W)) * 100, 9)\n",
        "  SHOES = round((SHOES / (H * W)) * 100, 9)\n",
        "\n",
        "  TSHIRT = round((TSHIRT / (H * W)) * 100, 9)\n",
        "  SHORTS = round((SHORTS / (H * W)) * 100, 9)\n",
        "  SNEAKERS = round((SNEAKERS / (H * W)) * 100, 9)\n",
        "\n",
        "\n",
        "  image_features.append(CHIN)\n",
        "  image_features.append(PANTS)\n",
        "  image_features.append(SHOES)\n",
        "  image_features.append(TSHIRT)\n",
        "  image_features.append(SHORTS)\n",
        "  image_features.append(SNEAKERS)\n",
        "  image_features.append(class_name)\n",
        "\n",
        "  features.append(image_features)\n",
        "\n",
        "  if show_images == True:\n",
        "      image = cv2.cvtColor(image, cv2.COLOR_BGR2RGB)\n",
        "      original_image = cv2.cvtColor(original_image, cv2.COLOR_BGR2RGB)\n",
        "      fig, im = plt.subplots(1,2)\n",
        "      im[0].axis('off')\n",
        "      im[0].imshow(original_image)\n",
        "      im[1].axis('off')\n",
        "      im[1].imshow(image)\n",
        "      plt.show()\n",
        "  \n",
        "  print('Homer chin: %s - Homer pants %s - Homer shoes %s ' % (image_features[0], image_features[1], image_features[2]))\n",
        "  print('Bart t-shirt: %s - Bart shorts: %s - Bart sneakers: %s ' % (image_features[3], image_features[4], image_features[5]))\n",
        "\n",
        "  # Convert the list of image_features to string\n",
        "  f = (\",\".join([str(item) for item in image_features]))\n",
        "  export += f + '\\n'"
      ],
      "metadata": {
        "id": "vfqPyDGupeDG",
        "colab": {
          "base_uri": "https://localhost:8080/"
        },
        "outputId": "702f2f50-097c-4262-bbb2-7973cdb3f38c"
      },
      "execution_count": null,
      "outputs": [
        {
          "output_type": "stream",
          "name": "stdout",
          "text": [
            "Homer chin: 0.0 - Homer pants 0.0 - Homer shoes 0.114799225 \n",
            "Bart t-shirt: 6.886101887 - Bart shorts: 3.495204355 - Bart sneakers: 3.495204355 \n",
            "Homer chin: 0.0 - Homer pants 0.0 - Homer shoes 0.11007847 \n",
            "Bart t-shirt: 5.004901113 - Bart shorts: 3.183888705 - Bart sneakers: 3.183888705 \n",
            "Homer chin: 0.0 - Homer pants 0.0 - Homer shoes 0.182518631 \n",
            "Bart t-shirt: 5.264620437 - Bart shorts: 5.029682961 - Bart sneakers: 5.029682961 \n",
            "Homer chin: 0.0 - Homer pants 0.480168257 - Homer shoes 0.080028043 \n",
            "Bart t-shirt: 0.0 - Bart shorts: 0.0 - Bart sneakers: 0.0 \n",
            "Homer chin: 0.0 - Homer pants 0.0 - Homer shoes 0.029707562 \n",
            "Bart t-shirt: 8.978929368 - Bart shorts: 3.459119497 - Bart sneakers: 3.459119497 \n",
            "Homer chin: 0.0 - Homer pants 0.0 - Homer shoes 0.053304904 \n",
            "Bart t-shirt: 6.75432362 - Bart shorts: 0.948827292 - Bart sneakers: 0.948827292 \n",
            "Homer chin: 0.249585206 - Homer pants 0.0 - Homer shoes 0.019853369 \n",
            "Bart t-shirt: 9.693407263 - Bart shorts: 4.104683977 - Bart sneakers: 4.104683977 \n",
            "Homer chin: 0.0 - Homer pants 0.0 - Homer shoes 0.181208054 \n",
            "Bart t-shirt: 0.0 - Bart shorts: 0.0 - Bart sneakers: 0.0 \n",
            "Homer chin: 0.0 - Homer pants 0.0 - Homer shoes 0.148868778 \n",
            "Bart t-shirt: 0.0 - Bart shorts: 0.0 - Bart sneakers: 0.0 \n",
            "Homer chin: 0.0 - Homer pants 0.0 - Homer shoes 0.114762211 \n",
            "Bart t-shirt: 9.594752524 - Bart shorts: 7.522715548 - Bart sneakers: 7.522715548 \n",
            "Homer chin: 0.0 - Homer pants 0.0 - Homer shoes 0.138655462 \n",
            "Bart t-shirt: 0.0 - Bart shorts: 0.0 - Bart sneakers: 0.0 \n",
            "Homer chin: 0.0 - Homer pants 0.0 - Homer shoes 0.02400947 \n",
            "Bart t-shirt: 19.545383481 - Bart shorts: 0.0 - Bart sneakers: 0.0 \n",
            "Homer chin: 0.00307645 - Homer pants 0.0 - Homer shoes 0.0 \n",
            "Bart t-shirt: 6.495154592 - Bart shorts: 5.599138594 - Bart sneakers: 5.599138594 \n",
            "Homer chin: 0.001317263 - Homer pants 0.0 - Homer shoes 0.087817515 \n",
            "Bart t-shirt: 0.0 - Bart shorts: 0.0 - Bart sneakers: 0.0 \n",
            "Homer chin: 0.0 - Homer pants 0.0 - Homer shoes 0.032184591 \n",
            "Bart t-shirt: 8.395721925 - Bart shorts: 0.0 - Bart sneakers: 0.0 \n",
            "Homer chin: 0.02105732 - Homer pants 0.0 - Homer shoes 0.008503918 \n",
            "Bart t-shirt: 8.915750471 - Bart shorts: 0.0 - Bart sneakers: 0.0 \n",
            "Homer chin: 0.0 - Homer pants 0.0 - Homer shoes 0.081055114 \n",
            "Bart t-shirt: 11.095816228 - Bart shorts: 4.525111363 - Bart sneakers: 4.525111363 \n",
            "Homer chin: 0.0 - Homer pants 0.0 - Homer shoes 0.08757526 \n",
            "Bart t-shirt: 10.443349754 - Bart shorts: 3.183296307 - Bart sneakers: 3.183296307 \n",
            "Homer chin: 0.0 - Homer pants 0.0 - Homer shoes 0.043806812 \n",
            "Bart t-shirt: 9.497408097 - Bart shorts: 0.0 - Bart sneakers: 0.0 \n",
            "Homer chin: 0.0 - Homer pants 0.0 - Homer shoes 0.141247989 \n",
            "Bart t-shirt: 4.750581083 - Bart shorts: 3.600482746 - Bart sneakers: 3.600482746 \n",
            "Homer chin: 0.0 - Homer pants 0.010463297 - Homer shoes 0.391691233 \n",
            "Bart t-shirt: 7.430305346 - Bart shorts: 0.0 - Bart sneakers: 0.0 \n",
            "Homer chin: 0.0 - Homer pants 0.0 - Homer shoes 0.145441759 \n",
            "Bart t-shirt: 12.530766526 - Bart shorts: 2.373417722 - Bart sneakers: 2.373417722 \n",
            "Homer chin: 0.0 - Homer pants 0.0 - Homer shoes 0.298828743 \n",
            "Bart t-shirt: 11.88730611 - Bart shorts: 6.866729978 - Bart sneakers: 6.866729978 \n",
            "Homer chin: 0.0 - Homer pants 0.0 - Homer shoes 0.110318564 \n",
            "Bart t-shirt: 2.206749078 - Bart shorts: 3.37340567 - Bart sneakers: 0.0 \n",
            "Homer chin: 0.0 - Homer pants 0.0 - Homer shoes 0.083622139 \n",
            "Bart t-shirt: 0.0 - Bart shorts: 0.0 - Bart sneakers: 0.0 \n",
            "Homer chin: 0.0 - Homer pants 0.0 - Homer shoes 0.069784112 \n",
            "Bart t-shirt: 9.781371226 - Bart shorts: 6.301652893 - Bart sneakers: 6.301652893 \n",
            "Homer chin: 0.0 - Homer pants 0.0 - Homer shoes 0.088388486 \n",
            "Bart t-shirt: 4.322113293 - Bart shorts: 5.937642899 - Bart sneakers: 5.937642899 \n",
            "Homer chin: 0.0 - Homer pants 0.0 - Homer shoes 0.144211187 \n",
            "Bart t-shirt: 0.0 - Bart shorts: 0.0 - Bart sneakers: 0.0 \n",
            "Homer chin: 0.07 - Homer pants 0.0 - Homer shoes 0.344285714 \n",
            "Bart t-shirt: 0.0 - Bart shorts: 0.0 - Bart sneakers: 0.0 \n",
            "Homer chin: 0.0 - Homer pants 0.0 - Homer shoes 0.07980941 \n",
            "Bart t-shirt: 11.305241215 - Bart shorts: 7.723942823 - Bart sneakers: 7.723942823 \n",
            "Homer chin: 0.0 - Homer pants 0.0 - Homer shoes 0.379403794 \n",
            "Bart t-shirt: 0.0 - Bart shorts: 0.0 - Bart sneakers: 0.0 \n",
            "Homer chin: 0.0 - Homer pants 0.0 - Homer shoes 0.090175198 \n",
            "Bart t-shirt: 11.35992786 - Bart shorts: 0.0 - Bart sneakers: 0.0 \n",
            "Homer chin: 0.0 - Homer pants 0.0 - Homer shoes 0.084393721 \n",
            "Bart t-shirt: 5.738773012 - Bart shorts: 3.398924308 - Bart sneakers: 3.398924308 \n",
            "Homer chin: 0.0 - Homer pants 0.0 - Homer shoes 0.162677013 \n",
            "Bart t-shirt: 5.02834647 - Bart shorts: 0.0 - Bart sneakers: 0.0 \n",
            "Homer chin: 0.0 - Homer pants 0.0 - Homer shoes 0.050130084 \n",
            "Bart t-shirt: 0.0 - Bart shorts: 2.312329463 - Bart sneakers: 1.435370265 \n",
            "Homer chin: 0.000832432 - Homer pants 0.0 - Homer shoes 0.198951136 \n",
            "Bart t-shirt: 16.896695247 - Bart shorts: 1.144593357 - Bart sneakers: 1.144593357 \n",
            "Homer chin: 0.0 - Homer pants 0.0 - Homer shoes 0.108054523 \n",
            "Bart t-shirt: 13.608921933 - Bart shorts: 0.269640644 - Bart sneakers: 0.269640644 \n",
            "Homer chin: 0.057218819 - Homer pants 0.0 - Homer shoes 0.082649405 \n",
            "Bart t-shirt: 7.449427812 - Bart shorts: 0.0 - Bart sneakers: 0.0 \n",
            "Homer chin: 0.0 - Homer pants 0.0 - Homer shoes 0.065466448 \n",
            "Bart t-shirt: 7.435477779 - Bart shorts: 1.739896764 - Bart sneakers: 1.739896764 \n",
            "Homer chin: 0.0 - Homer pants 0.0 - Homer shoes 0.076230076 \n",
            "Bart t-shirt: 3.805959806 - Bart shorts: 2.272349272 - Bart sneakers: 2.272349272 \n",
            "Homer chin: 0.0 - Homer pants 0.0 - Homer shoes 0.05304784 \n",
            "Bart t-shirt: 4.813762626 - Bart shorts: 5.155285494 - Bart sneakers: 5.155285494 \n",
            "Homer chin: 0.0 - Homer pants 0.0 - Homer shoes 0.057656907 \n",
            "Bart t-shirt: 10.597756243 - Bart shorts: 0.0 - Bart sneakers: 0.0 \n",
            "Homer chin: 0.0 - Homer pants 0.0 - Homer shoes 4.180478037 \n",
            "Bart t-shirt: 7.972817519 - Bart shorts: 0.0 - Bart sneakers: 0.0 \n",
            "Homer chin: 0.0 - Homer pants 0.0 - Homer shoes 0.166613773 \n",
            "Bart t-shirt: 5.126150428 - Bart shorts: 7.112821327 - Bart sneakers: 7.112821327 \n",
            "Homer chin: 0.0 - Homer pants 0.0 - Homer shoes 0.108311229 \n",
            "Bart t-shirt: 0.0 - Bart shorts: 18.927203065 - Bart sneakers: 17.73135868 \n",
            "Homer chin: 0.0 - Homer pants 0.0 - Homer shoes 0.13699873 \n",
            "Bart t-shirt: 3.036351539 - Bart shorts: 1.797919313 - Bart sneakers: 1.797919313 \n",
            "Homer chin: 0.0 - Homer pants 0.0 - Homer shoes 0.086580087 \n",
            "Bart t-shirt: 8.149012446 - Bart shorts: 2.357954545 - Bart sneakers: 2.357954545 \n",
            "Homer chin: 0.0 - Homer pants 0.0 - Homer shoes 0.151135698 \n",
            "Bart t-shirt: 13.635152613 - Bart shorts: 5.732015094 - Bart sneakers: 5.732015094 \n",
            "Homer chin: 0.0 - Homer pants 0.0 - Homer shoes 0.183020488 \n",
            "Bart t-shirt: 9.865659541 - Bart shorts: 3.991215017 - Bart sneakers: 3.991215017 \n",
            "Homer chin: 0.0 - Homer pants 0.0 - Homer shoes 0.126150813 \n",
            "Bart t-shirt: 2.49238361 - Bart shorts: 6.490779573 - Bart sneakers: 6.03685943 \n",
            "Homer chin: 0.0 - Homer pants 0.0 - Homer shoes 0.152807573 \n",
            "Bart t-shirt: 4.91155038 - Bart shorts: 2.840773658 - Bart sneakers: 2.840773658 \n",
            "Homer chin: 0.0 - Homer pants 0.0 - Homer shoes 0.0 \n",
            "Bart t-shirt: 1.187012385 - Bart shorts: 1.807232793 - Bart sneakers: 1.807232793 \n",
            "Homer chin: 0.0 - Homer pants 0.0 - Homer shoes 0.02433848 \n",
            "Bart t-shirt: 8.855312603 - Bart shorts: 0.0 - Bart sneakers: 0.0 \n",
            "Homer chin: 2.452787678 - Homer pants 0.0 - Homer shoes 0.068104543 \n",
            "Bart t-shirt: 4.658248331 - Bart shorts: 3.879910696 - Bart sneakers: 3.879910696 \n",
            "Homer chin: 0.0 - Homer pants 0.0 - Homer shoes 0.0 \n",
            "Bart t-shirt: 0.0 - Bart shorts: 0.0 - Bart sneakers: 0.0 \n",
            "Homer chin: 0.002290583 - Homer pants 0.0 - Homer shoes 0.0 \n",
            "Bart t-shirt: 6.528926251 - Bart shorts: 0.0 - Bart sneakers: 0.0 \n",
            "Homer chin: 0.0 - Homer pants 0.0 - Homer shoes 0.056179775 \n",
            "Bart t-shirt: 12.13282504 - Bart shorts: 0.0 - Bart sneakers: 0.0 \n",
            "Homer chin: 0.000888889 - Homer pants 0.0 - Homer shoes 0.094222222 \n",
            "Bart t-shirt: 5.550222222 - Bart shorts: 0.0 - Bart sneakers: 0.0 \n",
            "Homer chin: 0.0 - Homer pants 0.0 - Homer shoes 0.0 \n",
            "Bart t-shirt: 2.704001299 - Bart shorts: 2.038146254 - Bart sneakers: 0.849606363 \n",
            "Homer chin: 0.0 - Homer pants 0.0 - Homer shoes 0.078947368 \n",
            "Bart t-shirt: 0.484892788 - Bart shorts: 1.314814815 - Bart sneakers: 1.314814815 \n",
            "Homer chin: 0.129449838 - Homer pants 0.0 - Homer shoes 0.220989367 \n",
            "Bart t-shirt: 3.006010171 - Bart shorts: 1.178455848 - Bart sneakers: 1.178455848 \n",
            "Homer chin: 0.0 - Homer pants 0.0 - Homer shoes 0.0 \n",
            "Bart t-shirt: 2.278061846 - Bart shorts: 3.270189108 - Bart sneakers: 3.270189108 \n",
            "Homer chin: 0.0 - Homer pants 0.0 - Homer shoes 0.048163557 \n",
            "Bart t-shirt: 3.585693763 - Bart shorts: 4.931366932 - Bart sneakers: 4.931366932 \n",
            "Homer chin: 0.0 - Homer pants 0.0 - Homer shoes 0.580333855 \n",
            "Bart t-shirt: 0.721749478 - Bart shorts: 0.737235915 - Bart sneakers: 0.0 \n",
            "Homer chin: 0.0 - Homer pants 0.0 - Homer shoes 0.156095181 \n",
            "Bart t-shirt: 4.259996037 - Bart shorts: 4.505419125 - Bart sneakers: 4.505419125 \n",
            "Homer chin: 0.0 - Homer pants 0.0 - Homer shoes 0.113855066 \n",
            "Bart t-shirt: 9.469978468 - Bart shorts: 5.73372206 - Bart sneakers: 5.73372206 \n",
            "Homer chin: 0.0 - Homer pants 0.0 - Homer shoes 0.112589904 \n",
            "Bart t-shirt: 5.532449419 - Bart shorts: 7.887174834 - Bart sneakers: 7.887174834 \n",
            "Homer chin: 0.0 - Homer pants 0.0 - Homer shoes 0.101010101 \n",
            "Bart t-shirt: 10.84387737 - Bart shorts: 0.0 - Bart sneakers: 0.0 \n",
            "Homer chin: 0.0 - Homer pants 0.0 - Homer shoes 0.130730051 \n",
            "Bart t-shirt: 2.291680815 - Bart shorts: 2.954499151 - Bart sneakers: 2.095755518 \n",
            "Homer chin: 0.0 - Homer pants 0.0 - Homer shoes 0.084417626 \n",
            "Bart t-shirt: 6.410571154 - Bart shorts: 4.413835877 - Bart sneakers: 4.413835877 \n",
            "Homer chin: 0.072235674 - Homer pants 0.0 - Homer shoes 0.0 \n",
            "Bart t-shirt: 3.773204197 - Bart shorts: 1.920500404 - Bart sneakers: 1.920500404 \n",
            "Homer chin: 0.0 - Homer pants 0.0 - Homer shoes 0.095862315 \n",
            "Bart t-shirt: 6.44172463 - Bart shorts: 5.603486713 - Bart sneakers: 5.603486713 \n",
            "Homer chin: 0.0 - Homer pants 0.079648273 - Homer shoes 0.713011342 \n",
            "Bart t-shirt: 3.013253473 - Bart shorts: 1.752262011 - Bart sneakers: 1.752262011 \n",
            "Homer chin: 0.0 - Homer pants 0.0 - Homer shoes 0.077600637 \n",
            "Bart t-shirt: 17.164367088 - Bart shorts: 0.0 - Bart sneakers: 0.0 \n",
            "Homer chin: 0.0 - Homer pants 0.0 - Homer shoes 0.138044446 \n",
            "Bart t-shirt: 0.0 - Bart shorts: 0.0 - Bart sneakers: 0.0 \n",
            "Homer chin: 0.256359764 - Homer pants 0.0 - Homer shoes 1.935279188 \n",
            "Bart t-shirt: 2.087344653 - Bart shorts: 0.331116168 - Bart sneakers: 0.0189626 \n",
            "Homer chin: 0.0 - Homer pants 0.0 - Homer shoes 0.306571323 \n",
            "Bart t-shirt: 3.656376567 - Bart shorts: 4.276107978 - Bart sneakers: 4.276107978 \n",
            "Homer chin: 0.0 - Homer pants 0.0 - Homer shoes 0.182729644 \n",
            "Bart t-shirt: 0.0 - Bart shorts: 0.0 - Bart sneakers: 0.0 \n",
            "Homer chin: 0.0 - Homer pants 0.035811365 - Homer shoes 0.081114898 \n",
            "Bart t-shirt: 8.256461147 - Bart shorts: 0.0 - Bart sneakers: 0.0 \n",
            "Homer chin: 0.0 - Homer pants 0.0 - Homer shoes 0.063650201 \n",
            "Bart t-shirt: 0.0 - Bart shorts: 0.0 - Bart sneakers: 0.0 \n",
            "Homer chin: 0.0 - Homer pants 0.0 - Homer shoes 0.15935811 \n",
            "Bart t-shirt: 8.37577311 - Bart shorts: 7.56728144 - Bart sneakers: 7.56728144 \n",
            "Homer chin: 0.0 - Homer pants 0.0 - Homer shoes 0.127103473 \n",
            "Bart t-shirt: 6.08575009 - Bart shorts: 0.998925886 - Bart sneakers: 0.957303974 \n",
            "Homer chin: 0.0 - Homer pants 0.21020082 - Homer shoes 0.12724967 \n",
            "Bart t-shirt: 2.054235286 - Bart shorts: 1.480091724 - Bart sneakers: 1.480091724 \n",
            "Homer chin: 0.0 - Homer pants 0.0 - Homer shoes 0.067023482 \n",
            "Bart t-shirt: 6.311297555 - Bart shorts: 0.0 - Bart sneakers: 0.0 \n",
            "Homer chin: 0.0 - Homer pants 0.0 - Homer shoes 0.089739311 \n",
            "Bart t-shirt: 8.347980866 - Bart shorts: 8.240442022 - Bart sneakers: 8.240442022 \n",
            "Homer chin: 0.0 - Homer pants 0.0 - Homer shoes 0.06409324 \n",
            "Bart t-shirt: 0.0 - Bart shorts: 0.0 - Bart sneakers: 0.0 \n",
            "Homer chin: 0.0 - Homer pants 0.0 - Homer shoes 0.059352518 \n",
            "Bart t-shirt: 9.928507194 - Bart shorts: 0.0 - Bart sneakers: 0.0 \n",
            "Homer chin: 0.620192308 - Homer pants 0.0 - Homer shoes 0.151442308 \n",
            "Bart t-shirt: 5.380608974 - Bart shorts: 4.139423077 - Bart sneakers: 4.139423077 \n",
            "Homer chin: 0.0 - Homer pants 0.020169769 - Homer shoes 0.169082748 \n",
            "Bart t-shirt: 0.0 - Bart shorts: 2.887281029 - Bart sneakers: 2.887281029 \n",
            "Homer chin: 0.0 - Homer pants 0.022174372 - Homer shoes 0.075276158 \n",
            "Bart t-shirt: 0.0 - Bart shorts: 0.0 - Bart sneakers: 0.0 \n",
            "Homer chin: 0.0 - Homer pants 0.0 - Homer shoes 0.088223514 \n",
            "Bart t-shirt: 5.356195672 - Bart shorts: 4.325658429 - Bart sneakers: 4.325658429 \n",
            "Homer chin: 0.0 - Homer pants 0.0 - Homer shoes 0.036128255 \n",
            "Bart t-shirt: 0.0 - Bart shorts: 14.04862261 - Bart sneakers: 7.565858799 \n",
            "Homer chin: 4.469270958 - Homer pants 0.0 - Homer shoes 0.048356864 \n",
            "Bart t-shirt: 0.0 - Bart shorts: 0.0 - Bart sneakers: 0.0 \n",
            "Homer chin: 0.0 - Homer pants 0.0 - Homer shoes 0.515769828 \n",
            "Bart t-shirt: 3.451480154 - Bart shorts: 3.807950898 - Bart sneakers: 3.313264772 \n",
            "Homer chin: 0.003738178 - Homer pants 0.0 - Homer shoes 0.20746888 \n",
            "Bart t-shirt: 0.0 - Bart shorts: 3.104556839 - Bart sneakers: 3.104556839 \n",
            "Homer chin: 0.0 - Homer pants 0.0 - Homer shoes 0.119900917 \n",
            "Bart t-shirt: 1.333403605 - Bart shorts: 1.42563508 - Bart sneakers: 1.42563508 \n",
            "Homer chin: 0.016800478 - Homer pants 0.0 - Homer shoes 0.029723923 \n",
            "Bart t-shirt: 3.016978176 - Bart shorts: 2.22412484 - Bart sneakers: 2.22412484 \n",
            "Homer chin: 0.0 - Homer pants 0.0 - Homer shoes 0.038138825 \n",
            "Bart t-shirt: 9.655055513 - Bart shorts: 0.0 - Bart sneakers: 0.0 \n",
            "Homer chin: 0.002855457 - Homer pants 0.004283185 - Homer shoes 0.047115037 \n",
            "Bart t-shirt: 10.154480212 - Bart shorts: 0.0 - Bart sneakers: 0.0 \n",
            "Homer chin: 0.0 - Homer pants 0.0 - Homer shoes 0.0 \n",
            "Bart t-shirt: 4.442616207 - Bart shorts: 1.551764881 - Bart sneakers: 1.551764881 \n",
            "Homer chin: 0.0 - Homer pants 0.0 - Homer shoes 0.0 \n",
            "Bart t-shirt: 8.667226891 - Bart shorts: 3.921848739 - Bart sneakers: 3.921848739 \n",
            "Homer chin: 0.0 - Homer pants 0.0 - Homer shoes 0.0 \n",
            "Bart t-shirt: 8.113564866 - Bart shorts: 5.822234048 - Bart sneakers: 5.822234048 \n",
            "Homer chin: 0.0 - Homer pants 0.0 - Homer shoes 0.11212159 \n",
            "Bart t-shirt: 6.242393461 - Bart shorts: 0.0 - Bart sneakers: 0.0 \n",
            "Homer chin: 0.0 - Homer pants 0.0 - Homer shoes 0.594795539 \n",
            "Bart t-shirt: 0.0 - Bart shorts: 14.857215275 - Bart sneakers: 6.850287259 \n",
            "Homer chin: 0.001554726 - Homer pants 0.047419154 - Homer shoes 0.359919154 \n",
            "Bart t-shirt: 0.0 - Bart shorts: 1.773165423 - Bart sneakers: 1.773165423 \n",
            "Homer chin: 0.0 - Homer pants 0.0 - Homer shoes 0.12787018 \n",
            "Bart t-shirt: 0.000919929 - Bart shorts: 0.025758022 - Bart sneakers: 0.022998234 \n",
            "Homer chin: 4.469270958 - Homer pants 0.0 - Homer shoes 0.048356864 \n",
            "Bart t-shirt: 0.0 - Bart shorts: 0.0 - Bart sneakers: 0.0 \n",
            "Homer chin: 0.0 - Homer pants 0.031103271 - Homer shoes 0.095440175 \n",
            "Bart t-shirt: 0.0 - Bart shorts: 0.0 - Bart sneakers: 0.0 \n",
            "Homer chin: 0.0 - Homer pants 0.0 - Homer shoes 0.096296296 \n",
            "Bart t-shirt: 0.0 - Bart shorts: 0.0 - Bart sneakers: 0.0 \n",
            "Homer chin: 0.0 - Homer pants 0.0 - Homer shoes 0.030959752 \n",
            "Bart t-shirt: 2.493227554 - Bart shorts: 0.86880805 - Bart sneakers: 0.86880805 \n",
            "Homer chin: 0.0 - Homer pants 0.0 - Homer shoes 0.315630575 \n",
            "Bart t-shirt: 0.0 - Bart shorts: 0.091487123 - Bart sneakers: 0.091487123 \n",
            "Homer chin: 0.082892416 - Homer pants 0.0 - Homer shoes 0.0 \n",
            "Bart t-shirt: 8.386243386 - Bart shorts: 5.733686067 - Bart sneakers: 5.733686067 \n",
            "Homer chin: 0.028748341 - Homer pants 0.0 - Homer shoes 0.314020345 \n",
            "Bart t-shirt: 0.0 - Bart shorts: 0.0 - Bart sneakers: 0.0 \n",
            "Homer chin: 0.004464286 - Homer pants 0.080357143 - Homer shoes 0.046875 \n",
            "Bart t-shirt: 0.064732143 - Bart shorts: 0.0 - Bart sneakers: 0.0 \n",
            "Homer chin: 0.0 - Homer pants 0.0 - Homer shoes 0.162836426 \n",
            "Bart t-shirt: 0.0 - Bart shorts: 0.0 - Bart sneakers: 0.0 \n",
            "Homer chin: 0.0 - Homer pants 0.0 - Homer shoes 0.047342881 \n",
            "Bart t-shirt: 0.0 - Bart shorts: 0.0 - Bart sneakers: 0.0 \n",
            "Homer chin: 0.002855457 - Homer pants 0.004283185 - Homer shoes 0.047115037 \n",
            "Bart t-shirt: 10.154480212 - Bart shorts: 0.0 - Bart sneakers: 0.0 \n",
            "Homer chin: 0.0 - Homer pants 0.0 - Homer shoes 0.0 \n",
            "Bart t-shirt: 11.901625849 - Bart shorts: 0.436989778 - Bart sneakers: 0.436989778 \n",
            "Homer chin: 0.0 - Homer pants 0.0 - Homer shoes 0.06820873 \n",
            "Bart t-shirt: 0.0 - Bart shorts: 7.009674726 - Bart sneakers: 7.009674726 \n",
            "Homer chin: 0.0 - Homer pants 0.0 - Homer shoes 0.0 \n",
            "Bart t-shirt: 2.423072216 - Bart shorts: 3.600614606 - Bart sneakers: 1.095957467 \n",
            "Homer chin: 0.0 - Homer pants 0.0 - Homer shoes 0.048370171 \n",
            "Bart t-shirt: 0.0 - Bart shorts: 0.0 - Bart sneakers: 0.0 \n",
            "Homer chin: 0.046402056 - Homer pants 0.0 - Homer shoes 0.0 \n",
            "Bart t-shirt: 0.0 - Bart shorts: 0.0 - Bart sneakers: 0.0 \n",
            "Homer chin: 0.0 - Homer pants 0.0 - Homer shoes 0.125109894 \n",
            "Bart t-shirt: 0.0 - Bart shorts: 0.0 - Bart sneakers: 0.0 \n",
            "Homer chin: 0.0 - Homer pants 0.0 - Homer shoes 0.495459566 \n",
            "Bart t-shirt: 12.964780955 - Bart shorts: 0.997054853 - Bart sneakers: 0.026076819 \n",
            "Homer chin: 0.024496995 - Homer pants 0.0 - Homer shoes 0.169029266 \n",
            "Bart t-shirt: 3.695779984 - Bart shorts: 0.013065064 - Bart sneakers: 0.004082833 \n",
            "Homer chin: 0.126262626 - Homer pants 0.0 - Homer shoes 0.089031339 \n",
            "Bart t-shirt: 0.178062678 - Bart shorts: 0.0 - Bart sneakers: 0.0 \n",
            "Homer chin: 0.0 - Homer pants 0.0 - Homer shoes 0.342702852 \n",
            "Bart t-shirt: 4.158589495 - Bart shorts: 1.07887935 - Bart sneakers: 1.07887935 \n",
            "Homer chin: 0.0 - Homer pants 0.0 - Homer shoes 0.009876543 \n",
            "Bart t-shirt: 0.540740741 - Bart shorts: 3.417283951 - Bart sneakers: 3.417283951 \n",
            "Homer chin: 0.0 - Homer pants 0.0 - Homer shoes 0.093454492 \n",
            "Bart t-shirt: 7.286125887 - Bart shorts: 5.362736407 - Bart sneakers: 5.362736407 \n",
            "Homer chin: 0.001013274 - Homer pants 0.061809707 - Homer shoes 0.194548586 \n",
            "Bart t-shirt: 4.348971527 - Bart shorts: 4.550613031 - Bart sneakers: 4.550613031 \n",
            "Homer chin: 0.0 - Homer pants 0.0 - Homer shoes 0.069741492 \n",
            "Bart t-shirt: 12.124170851 - Bart shorts: 0.0 - Bart sneakers: 0.0 \n",
            "Homer chin: 0.0 - Homer pants 0.0 - Homer shoes 0.173299101 \n",
            "Bart t-shirt: 8.090500642 - Bart shorts: 0.118741977 - Bart sneakers: 0.118741977 \n",
            "Homer chin: 0.0 - Homer pants 0.0 - Homer shoes 0.562080987 \n",
            "Bart t-shirt: 2.018771789 - Bart shorts: 0.0 - Bart sneakers: 0.0 \n",
            "Homer chin: 0.0 - Homer pants 0.0 - Homer shoes 0.0 \n",
            "Bart t-shirt: 8.474266319 - Bart shorts: 5.609766802 - Bart sneakers: 5.609766802 \n",
            "Homer chin: 0.0 - Homer pants 0.076864807 - Homer shoes 0.0 \n",
            "Bart t-shirt: 0.0 - Bart shorts: 0.0 - Bart sneakers: 0.0 \n",
            "Homer chin: 0.0 - Homer pants 0.0 - Homer shoes 0.366119137 \n",
            "Bart t-shirt: 3.460815357 - Bart shorts: 0.0 - Bart sneakers: 0.0 \n",
            "Homer chin: 0.0 - Homer pants 0.0 - Homer shoes 0.235437937 \n",
            "Bart t-shirt: 10.429447853 - Bart shorts: 0.0 - Bart sneakers: 0.0 \n",
            "Homer chin: 0.0 - Homer pants 0.0 - Homer shoes 0.694371751 \n",
            "Bart t-shirt: 0.0 - Bart shorts: 0.0 - Bart sneakers: 0.0 \n",
            "Homer chin: 0.039284559 - Homer pants 0.0 - Homer shoes 0.233396497 \n",
            "Bart t-shirt: 8.228959652 - Bart shorts: 6.133012895 - Bart sneakers: 6.133012895 \n",
            "Homer chin: 0.0 - Homer pants 0.0 - Homer shoes 0.101015515 \n",
            "Bart t-shirt: 5.829625995 - Bart shorts: 2.764938958 - Bart sneakers: 2.764938958 \n",
            "Homer chin: 0.0 - Homer pants 0.0 - Homer shoes 0.1 \n",
            "Bart t-shirt: 0.0 - Bart shorts: 0.0 - Bart sneakers: 0.0 \n",
            "Homer chin: 0.0 - Homer pants 0.0 - Homer shoes 0.140763817 \n",
            "Bart t-shirt: 1.193031037 - Bart shorts: 0.0 - Bart sneakers: 0.0 \n",
            "Homer chin: 0.0 - Homer pants 0.0 - Homer shoes 0.137115161 \n",
            "Bart t-shirt: 4.095916838 - Bart shorts: 0.0 - Bart sneakers: 0.0 \n",
            "Homer chin: 0.0 - Homer pants 0.0 - Homer shoes 0.076660132 \n",
            "Bart t-shirt: 9.58125974 - Bart shorts: 6.173025687 - Bart sneakers: 6.173025687 \n",
            "Homer chin: 0.0 - Homer pants 0.0 - Homer shoes 0.101961416 \n",
            "Bart t-shirt: 2.589283319 - Bart shorts: 0.0 - Bart sneakers: 0.0 \n",
            "Homer chin: 0.0 - Homer pants 0.0 - Homer shoes 0.32228575 \n",
            "Bart t-shirt: 4.400440044 - Bart shorts: 0.0 - Bart sneakers: 0.0 \n",
            "Homer chin: 0.0 - Homer pants 0.0 - Homer shoes 0.49909064 \n",
            "Bart t-shirt: 6.990894315 - Bart shorts: 4.090005498 - Bart sneakers: 4.090005498 \n",
            "Homer chin: 0.0 - Homer pants 0.0 - Homer shoes 0.122647849 \n",
            "Bart t-shirt: 0.0 - Bart shorts: 0.0 - Bart sneakers: 0.0 \n",
            "Homer chin: 0.0 - Homer pants 0.0 - Homer shoes 0.145933977 \n",
            "Bart t-shirt: 0.0 - Bart shorts: 0.0 - Bart sneakers: 0.0 \n",
            "Homer chin: 0.0 - Homer pants 0.0 - Homer shoes 0.179773057 \n",
            "Bart t-shirt: 7.88857369 - Bart shorts: 5.175484892 - Bart sneakers: 5.175484892 \n",
            "Homer chin: 0.0 - Homer pants 0.0 - Homer shoes 0.024805103 \n",
            "Bart t-shirt: 0.0 - Bart shorts: 0.0 - Bart sneakers: 0.0 \n",
            "Homer chin: 0.0 - Homer pants 0.0 - Homer shoes 0.159848485 \n",
            "Bart t-shirt: 0.0 - Bart shorts: 0.0 - Bart sneakers: 0.0 \n",
            "Homer chin: 0.002906977 - Homer pants 0.0 - Homer shoes 0.149418605 \n",
            "Bart t-shirt: 6.029651163 - Bart shorts: 0.0 - Bart sneakers: 0.0 \n",
            "Homer chin: 0.0 - Homer pants 0.0 - Homer shoes 0.701011074 \n",
            "Bart t-shirt: 3.420959718 - Bart shorts: 0.0 - Bart sneakers: 0.0 \n",
            "Homer chin: 0.0 - Homer pants 0.0 - Homer shoes 0.3986195 \n",
            "Bart t-shirt: 0.0 - Bart shorts: 0.0 - Bart sneakers: 0.0 \n",
            "Homer chin: 0.006931208 - Homer pants 0.0 - Homer shoes 0.072777682 \n",
            "Bart t-shirt: 0.0 - Bart shorts: 0.0 - Bart sneakers: 0.0 \n",
            "Homer chin: 0.001619433 - Homer pants 0.0 - Homer shoes 0.136842105 \n",
            "Bart t-shirt: 9.861538462 - Bart shorts: 8.660728745 - Bart sneakers: 8.660728745 \n",
            "Homer chin: 0.0 - Homer pants 0.0 - Homer shoes 0.058479532 \n",
            "Bart t-shirt: 4.980506823 - Bart shorts: 0.072124756 - Bart sneakers: 0.0 \n",
            "Homer chin: 0.0 - Homer pants 0.0 - Homer shoes 0.167883747 \n",
            "Bart t-shirt: 9.668452534 - Bart shorts: 1.034365711 - Bart sneakers: 1.034365711 \n",
            "Homer chin: 0.0 - Homer pants 0.0 - Homer shoes 0.041262818 \n",
            "Bart t-shirt: 10.734478157 - Bart shorts: 5.981352718 - Bart sneakers: 5.981352718 \n",
            "Homer chin: 0.979401078 - Homer pants 16.958948664 - Homer shoes 2.404184248 \n",
            "Bart t-shirt: 2.48769339 - Bart shorts: 0.0 - Bart sneakers: 0.0 \n",
            "Homer chin: 0.058665773 - Homer pants 15.566543748 - Homer shoes 0.64867583 \n",
            "Bart t-shirt: 0.0 - Bart shorts: 0.0 - Bart sneakers: 0.0 \n",
            "Homer chin: 1.829063147 - Homer pants 14.074792961 - Homer shoes 2.1875 \n",
            "Bart t-shirt: 0.0 - Bart shorts: 0.0 - Bart sneakers: 0.0 \n",
            "Homer chin: 2.804717308 - Homer pants 0.152271939 - Homer shoes 0.107180021 \n",
            "Bart t-shirt: 0.0 - Bart shorts: 0.0 - Bart sneakers: 0.0 \n",
            "Homer chin: 2.510348847 - Homer pants 0.0 - Homer shoes 0.133630737 \n",
            "Bart t-shirt: 0.0 - Bart shorts: 0.0 - Bart sneakers: 0.0 \n",
            "Homer chin: 0.0 - Homer pants 0.0 - Homer shoes 0.222503718 \n",
            "Bart t-shirt: 0.0 - Bart shorts: 0.0 - Bart sneakers: 0.0 \n",
            "Homer chin: 6.507196996 - Homer pants 0.0 - Homer shoes 0.175231208 \n",
            "Bart t-shirt: 0.0 - Bart shorts: 0.0 - Bart sneakers: 0.0 \n",
            "Homer chin: 4.677915738 - Homer pants 0.0 - Homer shoes 0.293961583 \n",
            "Bart t-shirt: 0.0 - Bart shorts: 0.0 - Bart sneakers: 0.0 \n",
            "Homer chin: 3.118380316 - Homer pants 0.0 - Homer shoes 0.300431807 \n",
            "Bart t-shirt: 0.0 - Bart shorts: 0.0 - Bart sneakers: 0.0 \n",
            "Homer chin: 4.06671025 - Homer pants 0.0 - Homer shoes 0.150645216 \n",
            "Bart t-shirt: 0.0 - Bart shorts: 0.0 - Bart sneakers: 0.0 \n",
            "Homer chin: 0.0 - Homer pants 0.0 - Homer shoes 1.19478171 \n",
            "Bart t-shirt: 0.0 - Bart shorts: 0.0 - Bart sneakers: 0.0 \n",
            "Homer chin: 3.195100354 - Homer pants 0.0 - Homer shoes 0.380755608 \n",
            "Bart t-shirt: 0.0 - Bart shorts: 0.0 - Bart sneakers: 0.0 \n",
            "Homer chin: 0.355610904 - Homer pants 7.673539043 - Homer shoes 0.158664268 \n",
            "Bart t-shirt: 0.275356303 - Bart shorts: 0.0 - Bart sneakers: 0.0 \n",
            "Homer chin: 0.663501119 - Homer pants 4.680165379 - Homer shoes 0.034754821 \n",
            "Bart t-shirt: 0.0 - Bart shorts: 0.0 - Bart sneakers: 0.0 \n",
            "Homer chin: 0.501514993 - Homer pants 5.802685195 - Homer shoes 2.626423571 \n",
            "Bart t-shirt: 0.0 - Bart shorts: 0.0 - Bart sneakers: 0.0 \n",
            "Homer chin: 1.448672089 - Homer pants 3.566102811 - Homer shoes 0.060380396 \n",
            "Bart t-shirt: 0.0 - Bart shorts: 0.0 - Bart sneakers: 0.0 \n",
            "Homer chin: 0.858062038 - Homer pants 0.0 - Homer shoes 0.229520791 \n",
            "Bart t-shirt: 0.0 - Bart shorts: 0.0 - Bart sneakers: 0.0 \n",
            "Homer chin: 2.046468542 - Homer pants 4.588248639 - Homer shoes 0.060496068 \n",
            "Bart t-shirt: 0.0 - Bart shorts: 0.0 - Bart sneakers: 0.0 \n",
            "Homer chin: 5.3241237 - Homer pants 0.0 - Homer shoes 0.083744238 \n",
            "Bart t-shirt: 0.0 - Bart shorts: 0.0 - Bart sneakers: 0.0 \n",
            "Homer chin: 3.059849386 - Homer pants 21.512485137 - Homer shoes 4.97238737 \n",
            "Bart t-shirt: 0.0 - Bart shorts: 0.0 - Bart sneakers: 0.0 \n",
            "Homer chin: 1.87017211 - Homer pants 19.164520938 - Homer shoes 1.432443421 \n",
            "Bart t-shirt: 0.0 - Bart shorts: 0.0 - Bart sneakers: 0.0 \n",
            "Homer chin: 1.181676162 - Homer pants 6.996385642 - Homer shoes 0.0 \n",
            "Bart t-shirt: 0.0 - Bart shorts: 0.0 - Bart sneakers: 0.0 \n",
            "Homer chin: 1.657903494 - Homer pants 0.0 - Homer shoes 0.071214642 \n",
            "Bart t-shirt: 0.0 - Bart shorts: 0.0 - Bart sneakers: 0.0 \n",
            "Homer chin: 1.375206612 - Homer pants 14.950413223 - Homer shoes 1.574380165 \n",
            "Bart t-shirt: 0.0 - Bart shorts: 0.0 - Bart sneakers: 0.0 \n",
            "Homer chin: 2.107477925 - Homer pants 32.308912804 - Homer shoes 0.172461369 \n",
            "Bart t-shirt: 0.0 - Bart shorts: 0.0 - Bart sneakers: 0.0 \n",
            "Homer chin: 0.480936756 - Homer pants 0.0 - Homer shoes 0.095098438 \n",
            "Bart t-shirt: 0.0 - Bart shorts: 0.0 - Bart sneakers: 0.0 \n",
            "Homer chin: 1.405737574 - Homer pants 0.084906762 - Homer shoes 0.102418781 \n",
            "Bart t-shirt: 0.0 - Bart shorts: 0.0 - Bart sneakers: 0.0 \n",
            "Homer chin: 1.429483853 - Homer pants 0.0 - Homer shoes 0.112570356 \n",
            "Bart t-shirt: 0.0 - Bart shorts: 0.0 - Bart sneakers: 0.0 \n",
            "Homer chin: 1.623553703 - Homer pants 13.843546691 - Homer shoes 1.437531653 \n",
            "Bart t-shirt: 0.0 - Bart shorts: 0.0 - Bart sneakers: 0.0 \n",
            "Homer chin: 4.966005609 - Homer pants 0.0 - Homer shoes 0.10440414 \n",
            "Bart t-shirt: 0.0 - Bart shorts: 0.0 - Bart sneakers: 0.0 \n",
            "Homer chin: 1.365418968 - Homer pants 12.872923639 - Homer shoes 1.497854342 \n",
            "Bart t-shirt: 0.0 - Bart shorts: 0.0 - Bart sneakers: 0.0 \n",
            "Homer chin: 1.475956065 - Homer pants 10.607126113 - Homer shoes 0.0 \n",
            "Bart t-shirt: 0.0 - Bart shorts: 0.0 - Bart sneakers: 0.0 \n",
            "Homer chin: 2.580283794 - Homer pants 13.434466019 - Homer shoes 1.690627334 \n",
            "Bart t-shirt: 0.0 - Bart shorts: 0.0 - Bart sneakers: 0.0 \n",
            "Homer chin: 1.208582988 - Homer pants 13.390433758 - Homer shoes 1.592026425 \n",
            "Bart t-shirt: 0.0 - Bart shorts: 0.0 - Bart sneakers: 0.0 \n",
            "Homer chin: 0.308702684 - Homer pants 9.513506425 - Homer shoes 0.713021243 \n",
            "Bart t-shirt: 0.0 - Bart shorts: 0.0 - Bart sneakers: 0.0 \n",
            "Homer chin: 2.111849548 - Homer pants 0.273614253 - Homer shoes 0.134332579 \n",
            "Bart t-shirt: 0.0 - Bart shorts: 0.0 - Bart sneakers: 0.0 \n",
            "Homer chin: 0.312468394 - Homer pants 0.187906888 - Homer shoes 0.0 \n",
            "Bart t-shirt: 0.0 - Bart shorts: 0.0 - Bart sneakers: 0.0 \n",
            "Homer chin: 1.699590092 - Homer pants 3.907748997 - Homer shoes 0.0 \n",
            "Bart t-shirt: 0.0 - Bart shorts: 0.0 - Bart sneakers: 0.0 \n",
            "Homer chin: 1.261645963 - Homer pants 0.046760305 - Homer shoes 0.044995765 \n",
            "Bart t-shirt: 0.0 - Bart shorts: 0.0 - Bart sneakers: 0.0 \n",
            "Homer chin: 4.183953033 - Homer pants 0.0 - Homer shoes 0.129158513 \n",
            "Bart t-shirt: 0.0 - Bart shorts: 0.0 - Bart sneakers: 0.0 \n",
            "Homer chin: 0.307761177 - Homer pants 16.612575308 - Homer shoes 0.0 \n",
            "Bart t-shirt: 0.0 - Bart shorts: 0.0 - Bart sneakers: 0.0 \n",
            "Homer chin: 7.688952498 - Homer pants 0.0 - Homer shoes 0.069515437 \n",
            "Bart t-shirt: 0.0 - Bart shorts: 0.0 - Bart sneakers: 0.0 \n",
            "Homer chin: 0.0 - Homer pants 0.063628651 - Homer shoes 0.0 \n",
            "Bart t-shirt: 0.0 - Bart shorts: 0.0 - Bart sneakers: 0.0 \n",
            "Homer chin: 0.0 - Homer pants 0.039908211 - Homer shoes 0.633542851 \n",
            "Bart t-shirt: 0.0 - Bart shorts: 0.0 - Bart sneakers: 0.0 \n",
            "Homer chin: 0.0 - Homer pants 0.024797844 - Homer shoes 0.201617251 \n",
            "Bart t-shirt: 0.0 - Bart shorts: 0.0 - Bart sneakers: 0.0 \n",
            "Homer chin: 0.092525727 - Homer pants 0.178281278 - Homer shoes 0.146687128 \n",
            "Bart t-shirt: 0.0 - Bart shorts: 0.0 - Bart sneakers: 0.0 \n",
            "Homer chin: 0.028179839 - Homer pants 11.469194313 - Homer shoes 0.174202639 \n",
            "Bart t-shirt: 0.0 - Bart shorts: 0.0 - Bart sneakers: 0.0 \n",
            "Homer chin: 0.491803279 - Homer pants 0.0 - Homer shoes 0.195081967 \n",
            "Bart t-shirt: 0.0 - Bart shorts: 0.0 - Bart sneakers: 0.0 \n",
            "Homer chin: 0.191131498 - Homer pants 0.0 - Homer shoes 0.076452599 \n",
            "Bart t-shirt: 0.0 - Bart shorts: 0.0 - Bart sneakers: 0.0 \n",
            "Homer chin: 1.085376162 - Homer pants 8.202874049 - Homer shoes 0.22541561 \n",
            "Bart t-shirt: 0.0 - Bart shorts: 0.0 - Bart sneakers: 0.0 \n",
            "Homer chin: 0.138848864 - Homer pants 7.372088758 - Homer shoes 0.192554557 \n",
            "Bart t-shirt: 0.0 - Bart shorts: 0.0 - Bart sneakers: 0.0 \n",
            "Homer chin: 0.078528726 - Homer pants 8.650825818 - Homer shoes 0.196321816 \n",
            "Bart t-shirt: 0.525635829 - Bart shorts: 0.0 - Bart sneakers: 0.0 \n",
            "Homer chin: 0.070499893 - Homer pants 9.101044382 - Homer shoes 0.226255472 \n",
            "Bart t-shirt: 0.0 - Bart shorts: 0.0 - Bart sneakers: 0.0 \n",
            "Homer chin: 0.018296095 - Homer pants 0.0 - Homer shoes 0.128072668 \n",
            "Bart t-shirt: 0.0 - Bart shorts: 0.0 - Bart sneakers: 0.0 \n",
            "Homer chin: 0.072990481 - Homer pants 0.0 - Homer shoes 0.0304127 \n",
            "Bart t-shirt: 0.0 - Bart shorts: 0.0 - Bart sneakers: 0.0 \n",
            "Homer chin: 0.039355119 - Homer pants 0.0 - Homer shoes 0.176419498 \n",
            "Bart t-shirt: 0.0 - Bart shorts: 0.0 - Bart sneakers: 0.0 \n",
            "Homer chin: 0.028068487 - Homer pants 0.0 - Homer shoes 0.0 \n",
            "Bart t-shirt: 0.0 - Bart shorts: 0.0 - Bart sneakers: 0.0 \n",
            "Homer chin: 1.207367796 - Homer pants 0.007130125 - Homer shoes 0.411170529 \n",
            "Bart t-shirt: 0.0 - Bart shorts: 0.0 - Bart sneakers: 0.0 \n",
            "Homer chin: 0.0 - Homer pants 0.0 - Homer shoes 0.195828012 \n",
            "Bart t-shirt: 0.0 - Bart shorts: 0.0 - Bart sneakers: 0.0 \n",
            "Homer chin: 0.660317686 - Homer pants 0.0 - Homer shoes 0.0 \n",
            "Bart t-shirt: 0.0 - Bart shorts: 0.0 - Bart sneakers: 0.0 \n",
            "Homer chin: 0.0 - Homer pants 0.155041727 - Homer shoes 0.140366996 \n",
            "Bart t-shirt: 0.0 - Bart shorts: 0.0 - Bart sneakers: 0.0 \n",
            "Homer chin: 0.058665773 - Homer pants 15.566543748 - Homer shoes 0.64867583 \n",
            "Bart t-shirt: 0.0 - Bart shorts: 0.0 - Bart sneakers: 0.0 \n",
            "Homer chin: 0.058696928 - Homer pants 0.052827235 - Homer shoes 0.138916063 \n",
            "Bart t-shirt: 0.0 - Bart shorts: 0.0 - Bart sneakers: 0.0 \n",
            "Homer chin: 0.516451479 - Homer pants 0.00666389 - Homer shoes 0.0 \n",
            "Bart t-shirt: 0.0 - Bart shorts: 0.0 - Bart sneakers: 0.0 \n",
            "Homer chin: 0.112978525 - Homer pants 0.0 - Homer shoes 0.253034547 \n",
            "Bart t-shirt: 0.0 - Bart shorts: 0.0 - Bart sneakers: 0.0 \n",
            "Homer chin: 1.399440542 - Homer pants 2.311739089 - Homer shoes 0.178804158 \n",
            "Bart t-shirt: 0.0 - Bart shorts: 0.0 - Bart sneakers: 0.0 \n",
            "Homer chin: 0.051243533 - Homer pants 0.0 - Homer shoes 0.036502243 \n",
            "Bart t-shirt: 0.0 - Bart shorts: 0.0 - Bart sneakers: 0.0 \n",
            "Homer chin: 1.619217082 - Homer pants 0.0 - Homer shoes 0.15658363 \n",
            "Bart t-shirt: 0.0 - Bart shorts: 0.0 - Bart sneakers: 0.0 \n",
            "Homer chin: 1.242105263 - Homer pants 0.0 - Homer shoes 0.114127424 \n",
            "Bart t-shirt: 0.0 - Bart shorts: 0.0 - Bart sneakers: 0.0 \n",
            "Homer chin: 1.862687235 - Homer pants 8.791415663 - Homer shoes 0.221833279 \n",
            "Bart t-shirt: 0.0 - Bart shorts: 0.0 - Bart sneakers: 0.0 \n",
            "Homer chin: 0.171260997 - Homer pants 5.309090909 - Homer shoes 0.127859238 \n",
            "Bart t-shirt: 0.0 - Bart shorts: 0.0 - Bart sneakers: 0.0 \n",
            "Homer chin: 0.842998586 - Homer pants 11.237623762 - Homer shoes 0.178217822 \n",
            "Bart t-shirt: 0.0 - Bart shorts: 0.0 - Bart sneakers: 0.0 \n",
            "Homer chin: 2.599648343 - Homer pants 0.0 - Homer shoes 0.170742694 \n",
            "Bart t-shirt: 0.0 - Bart shorts: 0.0 - Bart sneakers: 0.0 \n",
            "Homer chin: 0.023988486 - Homer pants 0.0 - Homer shoes 0.011423088 \n",
            "Bart t-shirt: 0.0 - Bart shorts: 0.0 - Bart sneakers: 0.0 \n",
            "Homer chin: 0.120609675 - Homer pants 0.0 - Homer shoes 0.096090126 \n",
            "Bart t-shirt: 0.0 - Bart shorts: 0.0 - Bart sneakers: 0.0 \n",
            "Homer chin: 0.42369338 - Homer pants 0.0 - Homer shoes 1.361207898 \n",
            "Bart t-shirt: 0.0 - Bart shorts: 0.0 - Bart sneakers: 0.0 \n",
            "Homer chin: 0.773406766 - Homer pants 7.593233674 - Homer shoes 0.0 \n",
            "Bart t-shirt: 0.0 - Bart shorts: 0.0 - Bart sneakers: 0.0 \n",
            "Homer chin: 0.0 - Homer pants 0.0 - Homer shoes 0.143328579 \n",
            "Bart t-shirt: 0.0 - Bart shorts: 0.0 - Bart sneakers: 0.0 \n",
            "Homer chin: 0.942271339 - Homer pants 9.738548786 - Homer shoes 0.077940963 \n",
            "Bart t-shirt: 0.0 - Bart shorts: 0.0 - Bart sneakers: 0.0 \n",
            "Homer chin: 0.065261372 - Homer pants 0.024146708 - Homer shoes 0.274097762 \n",
            "Bart t-shirt: 0.0 - Bart shorts: 0.0 - Bart sneakers: 0.0 \n",
            "Homer chin: 8.468309859 - Homer pants 0.0 - Homer shoes 0.278755869 \n",
            "Bart t-shirt: 0.0 - Bart shorts: 0.0 - Bart sneakers: 0.0 \n",
            "Homer chin: 0.462344029 - Homer pants 0.325868984 - Homer shoes 0.182895128 \n",
            "Bart t-shirt: 0.0 - Bart shorts: 0.0 - Bart sneakers: 0.0 \n",
            "Homer chin: 0.258885898 - Homer pants 4.702521562 - Homer shoes 0.315195297 \n",
            "Bart t-shirt: 0.0 - Bart shorts: 0.0 - Bart sneakers: 0.0 \n",
            "Homer chin: 0.291149711 - Homer pants 0.0 - Homer shoes 0.127377998 \n",
            "Bart t-shirt: 0.0 - Bart shorts: 0.0 - Bart sneakers: 0.0 \n",
            "Homer chin: 0.902278636 - Homer pants 0.0 - Homer shoes 0.102879228 \n",
            "Bart t-shirt: 0.0 - Bart shorts: 0.0 - Bart sneakers: 0.0 \n",
            "Homer chin: 0.000558659 - Homer pants 0.0 - Homer shoes 0.094413408 \n",
            "Bart t-shirt: 0.0 - Bart shorts: 0.0 - Bart sneakers: 0.0 \n",
            "Homer chin: 1.954776665 - Homer pants 12.935145446 - Homer shoes 0.020664441 \n",
            "Bart t-shirt: 0.0 - Bart shorts: 0.0 - Bart sneakers: 0.0 \n",
            "Homer chin: 2.836879433 - Homer pants 0.0 - Homer shoes 0.166272656 \n",
            "Bart t-shirt: 0.0 - Bart shorts: 0.0 - Bart sneakers: 0.0 \n",
            "Homer chin: 1.765465465 - Homer pants 0.0 - Homer shoes 0.221021021 \n",
            "Bart t-shirt: 0.077177177 - Bart shorts: 0.0 - Bart sneakers: 0.0 \n",
            "Homer chin: 3.856391115 - Homer pants 0.001529707 - Homer shoes 0.10402007 \n",
            "Bart t-shirt: 0.0 - Bart shorts: 0.0 - Bart sneakers: 0.0 \n",
            "Homer chin: 3.52862254 - Homer pants 0.0 - Homer shoes 0.154541841 \n",
            "Bart t-shirt: 0.0 - Bart shorts: 0.0 - Bart sneakers: 0.0 \n",
            "Homer chin: 1.630342605 - Homer pants 11.98906038 - Homer shoes 0.136391904 \n",
            "Bart t-shirt: 0.0 - Bart shorts: 0.0 - Bart sneakers: 0.0 \n",
            "Homer chin: 6.814814815 - Homer pants 0.0 - Homer shoes 0.086140439 \n",
            "Bart t-shirt: 0.0 - Bart shorts: 0.0 - Bart sneakers: 0.0 \n",
            "Homer chin: 7.385644191 - Homer pants 0.0 - Homer shoes 0.11119025 \n",
            "Bart t-shirt: 0.0 - Bart shorts: 0.0 - Bart sneakers: 0.0 \n",
            "Homer chin: 1.684732624 - Homer pants 1.178557351 - Homer shoes 0.141242938 \n",
            "Bart t-shirt: 0.0 - Bart shorts: 0.0 - Bart sneakers: 0.0 \n",
            "Homer chin: 1.587927248 - Homer pants 0.0 - Homer shoes 0.270285489 \n",
            "Bart t-shirt: 0.0 - Bart shorts: 0.0 - Bart sneakers: 0.0 \n",
            "Homer chin: 9.431089476 - Homer pants 0.0 - Homer shoes 0.148923638 \n",
            "Bart t-shirt: 0.0 - Bart shorts: 0.0 - Bart sneakers: 0.0 \n",
            "Homer chin: 3.25017819 - Homer pants 0.0 - Homer shoes 0.334348474 \n",
            "Bart t-shirt: 0.0 - Bart shorts: 0.0 - Bart sneakers: 0.0 \n",
            "Homer chin: 0.752833109 - Homer pants 10.047759306 - Homer shoes 1.163529862 \n",
            "Bart t-shirt: 0.0 - Bart shorts: 0.0 - Bart sneakers: 0.0 \n",
            "Homer chin: 0.0 - Homer pants 0.017687075 - Homer shoes 0.18877551 \n",
            "Bart t-shirt: 0.0 - Bart shorts: 0.0 - Bart sneakers: 0.0 \n",
            "Homer chin: 0.0 - Homer pants 0.0 - Homer shoes 0.103598232 \n",
            "Bart t-shirt: 0.0 - Bart shorts: 0.0 - Bart sneakers: 0.0 \n",
            "Homer chin: 0.0 - Homer pants 0.0 - Homer shoes 1.157139824 \n",
            "Bart t-shirt: 0.0 - Bart shorts: 0.0 - Bart sneakers: 0.0 \n",
            "Homer chin: 0.0 - Homer pants 0.0 - Homer shoes 0.021648145 \n",
            "Bart t-shirt: 0.0 - Bart shorts: 0.0 - Bart sneakers: 0.0 \n",
            "Homer chin: 0.0 - Homer pants 0.0 - Homer shoes 0.079567656 \n",
            "Bart t-shirt: 0.0 - Bart shorts: 0.0 - Bart sneakers: 0.0 \n",
            "Homer chin: 6.485411788 - Homer pants 0.0 - Homer shoes 0.171984778 \n",
            "Bart t-shirt: 0.0 - Bart shorts: 0.0 - Bart sneakers: 0.0 \n",
            "Homer chin: 0.0 - Homer pants 0.0 - Homer shoes 0.161636882 \n",
            "Bart t-shirt: 0.0 - Bart shorts: 0.0 - Bart sneakers: 0.0 \n",
            "Homer chin: 4.264975221 - Homer pants 0.0 - Homer shoes 0.329939668 \n",
            "Bart t-shirt: 0.0 - Bart shorts: 0.0 - Bart sneakers: 0.0 \n",
            "Homer chin: 1.429133481 - Homer pants 0.0 - Homer shoes 0.034558659 \n",
            "Bart t-shirt: 0.0 - Bart shorts: 0.0 - Bart sneakers: 0.0 \n",
            "Homer chin: 0.853902001 - Homer pants 13.744247745 - Homer shoes 0.161778023 \n",
            "Bart t-shirt: 0.0 - Bart shorts: 0.0 - Bart sneakers: 0.0 \n"
          ]
        }
      ]
    },
    {
      "cell_type": "code",
      "source": [
        "image_features"
      ],
      "metadata": {
        "colab": {
          "base_uri": "https://localhost:8080/"
        },
        "id": "qNaY3S-kiUx8",
        "outputId": "3ed8799b-c6ff-40d3-dad7-fcf569d9bba1"
      },
      "execution_count": null,
      "outputs": [
        {
          "output_type": "execute_result",
          "data": {
            "text/plain": [
              "[0.853902001, 13.744247745, 0.161778023, 0.0, 0.0, 0.0, 1]"
            ]
          },
          "metadata": {},
          "execution_count": 12
        }
      ]
    },
    {
      "cell_type": "code",
      "source": [
        "export"
      ],
      "metadata": {
        "colab": {
          "base_uri": "https://localhost:8080/",
          "height": 183
        },
        "id": "C60uB7PFiWxY",
        "outputId": "fc96281e-22fd-47d9-b76a-df9f811ac846"
      },
      "execution_count": null,
      "outputs": [
        {
          "output_type": "execute_result",
          "data": {
            "text/plain": [
              "'CHIN, PANTS, SHOES, TSHIRT, SHORT, SNEAKERS, CLASS\\n0.0,0.0,0.114799225,6.886101887,3.495204355,3.495204355,0\\n0.0,0.0,0.11007847,5.004901113,3.183888705,3.183888705,0\\n0.0,0.0,0.182518631,5.264620437,5.029682961,5.029682961,0\\n0.0,0.480168257,0.080028043,0.0,0.0,0.0,0\\n0.0,0.0,0.029707562,8.978929368,3.459119497,3.459119497,0\\n0.0,0.0,0.053304904,6.75432362,0.948827292,0.948827292,0\\n0.249585206,0.0,0.019853369,9.693407263,4.104683977,4.104683977,0\\n0.0,0.0,0.181208054,0.0,0.0,0.0,0\\n0.0,0.0,0.148868778,0.0,0.0,0.0,0\\n0.0,0.0,0.114762211,9.594752524,7.522715548,7.522715548,0\\n0.0,0.0,0.138655462,0.0,0.0,0.0,0\\n0.0,0.0,0.02400947,19.545383481,0.0,0.0,0\\n0.00307645,0.0,0.0,6.495154592,5.599138594,5.599138594,0\\n0.001317263,0.0,0.087817515,0.0,0.0,0.0,0\\n0.0,0.0,0.032184591,8.395721925,0.0,0.0,0\\n0.02105732,0.0,0.008503918,8.915750471,0.0,0.0,0\\n0.0,0.0,0.081055114,11.095816228,4.525111363,4.525111363,0\\n0.0,0.0,0.08757526,10.443349754,3.183296307,3.183296307,0\\n0.0,0.0,0.043806812,9.497408097,0.0,0.0,0\\n0.0,0.0,0.141247989,4.750581083,3.600482746,3.600482746,0\\n0.0,0.010463297,0.391691233,7.430305346,0.0,0.0,0\\n0.0,0.0,0.145441759,12.530766526,2.373417722,2.373417722,0\\n0.0,0.0,0.298828743,11.88730611,6.866729978,6.866729978,0\\n0.0,0.0,0.110318564,2.206749078,3.37340567,0.0,0\\n0.0,0.0,0.083622139,0.0,0.0,0.0,0\\n0.0,0.0,0.069784112,9.781371226,6.301652893,6.301652893,0\\n0.0,0.0,0.088388486,4.322113293,5.937642899,5.937642899,0\\n0.0,0.0,0.144211187,0.0,0.0,0.0,0\\n0.07,0.0,0.344285714,0.0,0.0,0.0,0\\n0.0,0.0,0.07980941,11.305241215,7.723942823,7.723942823,0\\n0.0,0.0,0.379403794,0.0,0.0,0.0,0\\n0.0,0.0,0.090175198,11.35992786,0.0,0.0,0\\n0.0,0.0,0.084393721,5.738773012,3.398924308,3.398924308,0\\n0.0,0.0,0.162677013,5.02834647,0.0,0.0,0\\n0.0,0.0,0.050130084,0.0,2.312329463,1.435370265,0\\n0.000832432,0.0,0.198951136,16.896695247,1.144593357,1.144593357,0\\n0.0,0.0,0.108054523,13.608921933,0.269640644,0.269640644,0\\n0.057218819,0.0,0.082649405,7.449427812,0.0,0.0,0\\n0.0,0.0,0.065466448,7.435477779,1.739896764,1.739896764,0\\n0.0,0.0,0.076230076,3.805959806,2.272349272,2.272349272,0\\n0.0,0.0,0.05304784,4.813762626,5.155285494,5.155285494,0\\n0.0,0.0,0.057656907,10.597756243,0.0,0.0,0\\n0.0,0.0,4.180478037,7.972817519,0.0,0.0,0\\n0.0,0.0,0.166613773,5.126150428,7.112821327,7.112821327,0\\n0.0,0.0,0.108311229,0.0,18.927203065,17.73135868,0\\n0.0,0.0,0.13699873,3.036351539,1.797919313,1.797919313,0\\n0.0,0.0,0.086580087,8.149012446,2.357954545,2.357954545,0\\n0.0,0.0,0.151135698,13.635152613,5.732015094,5.732015094,0\\n0.0,0.0,0.183020488,9.865659541,3.991215017,3.991215017,0\\n0.0,0.0,0.126150813,2.49238361,6.490779573,6.03685943,0\\n0.0,0.0,0.152807573,4.91155038,2.840773658,2.840773658,0\\n0.0,0.0,0.0,1.187012385,1.807232793,1.807232793,0\\n0.0,0.0,0.02433848,8.855312603,0.0,0.0,0\\n2.452787678,0.0,0.068104543,4.658248331,3.879910696,3.879910696,0\\n0.0,0.0,0.0,0.0,0.0,0.0,0\\n0.002290583,0.0,0.0,6.528926251,0.0,0.0,0\\n0.0,0.0,0.056179775,12.13282504,0.0,0.0,0\\n0.000888889,0.0,0.094222222,5.550222222,0.0,0.0,0\\n0.0,0.0,0.0,2.704001299,2.038146254,0.849606363,0\\n0.0,0.0,0.078947368,0.484892788,1.314814815,1.314814815,0\\n0.129449838,0.0,0.220989367,3.006010171,1.178455848,1.178455848,0\\n0.0,0.0,0.0,2.278061846,3.270189108,3.270189108,0\\n0.0,0.0,0.048163557,3.585693763,4.931366932,4.931366932,0\\n0.0,0.0,0.580333855,0.721749478,0.737235915,0.0,0\\n0.0,0.0,0.156095181,4.259996037,4.505419125,4.505419125,0\\n0.0,0.0,0.113855066,9.469978468,5.73372206,5.73372206,0\\n0.0,0.0,0.112589904,5.532449419,7.887174834,7.887174834,0\\n0.0,0.0,0.101010101,10.84387737,0.0,0.0,0\\n0.0,0.0,0.130730051,2.291680815,2.954499151,2.095755518,0\\n0.0,0.0,0.084417626,6.410571154,4.413835877,4.413835877,0\\n0.072235674,0.0,0.0,3.773204197,1.920500404,1.920500404,0\\n0.0,0.0,0.095862315,6.44172463,5.603486713,5.603486713,0\\n0.0,0.079648273,0.713011342,3.013253473,1.752262011,1.752262011,0\\n0.0,0.0,0.077600637,17.164367088,0.0,0.0,0\\n0.0,0.0,0.138044446,0.0,0.0,0.0,0\\n0.256359764,0.0,1.935279188,2.087344653,0.331116168,0.0189626,0\\n0.0,0.0,0.306571323,3.656376567,4.276107978,4.276107978,0\\n0.0,0.0,0.182729644,0.0,0.0,0.0,0\\n0.0,0.035811365,0.081114898,8.256461147,0.0,0.0,0\\n0.0,0.0,0.063650201,0.0,0.0,0.0,0\\n0.0,0.0,0.15935811,8.37577311,7.56728144,7.56728144,0\\n0.0,0.0,0.127103473,6.08575009,0.998925886,0.957303974,0\\n0.0,0.21020082,0.12724967,2.054235286,1.480091724,1.480091724,0\\n0.0,0.0,0.067023482,6.311297555,0.0,0.0,0\\n0.0,0.0,0.089739311,8.347980866,8.240442022,8.240442022,0\\n0.0,0.0,0.06409324,0.0,0.0,0.0,0\\n0.0,0.0,0.059352518,9.928507194,0.0,0.0,0\\n0.620192308,0.0,0.151442308,5.380608974,4.139423077,4.139423077,0\\n0.0,0.020169769,0.169082748,0.0,2.887281029,2.887281029,0\\n0.0,0.022174372,0.075276158,0.0,0.0,0.0,0\\n0.0,0.0,0.088223514,5.356195672,4.325658429,4.325658429,0\\n0.0,0.0,0.036128255,0.0,14.04862261,7.565858799,0\\n4.469270958,0.0,0.048356864,0.0,0.0,0.0,0\\n0.0,0.0,0.515769828,3.451480154,3.807950898,3.313264772,0\\n0.003738178,0.0,0.20746888,0.0,3.104556839,3.104556839,0\\n0.0,0.0,0.119900917,1.333403605,1.42563508,1.42563508,0\\n0.016800478,0.0,0.029723923,3.016978176,2.22412484,2.22412484,0\\n0.0,0.0,0.038138825,9.655055513,0.0,0.0,0\\n0.002855457,0.004283185,0.047115037,10.154480212,0.0,0.0,0\\n0.0,0.0,0.0,4.442616207,1.551764881,1.551764881,0\\n0.0,0.0,0.0,8.667226891,3.921848739,3.921848739,0\\n0.0,0.0,0.0,8.113564866,5.822234048,5.822234048,0\\n0.0,0.0,0.11212159,6.242393461,0.0,0.0,0\\n0.0,0.0,0.594795539,0.0,14.857215275,6.850287259,0\\n0.001554726,0.047419154,0.359919154,0.0,1.773165423,1.773165423,0\\n0.0,0.0,0.12787018,0.000919929,0.025758022,0.022998234,0\\n4.469270958,0.0,0.048356864,0.0,0.0,0.0,0\\n0.0,0.031103271,0.095440175,0.0,0.0,0.0,0\\n0.0,0.0,0.096296296,0.0,0.0,0.0,0\\n0.0,0.0,0.030959752,2.493227554,0.86880805,0.86880805,0\\n0.0,0.0,0.315630575,0.0,0.091487123,0.091487123,0\\n0.082892416,0.0,0.0,8.386243386,5.733686067,5.733686067,0\\n0.028748341,0.0,0.314020345,0.0,0.0,0.0,0\\n0.004464286,0.080357143,0.046875,0.064732143,0.0,0.0,0\\n0.0,0.0,0.162836426,0.0,0.0,0.0,0\\n0.0,0.0,0.047342881,0.0,0.0,0.0,0\\n0.002855457,0.004283185,0.047115037,10.154480212,0.0,0.0,0\\n0.0,0.0,0.0,11.901625849,0.436989778,0.436989778,0\\n0.0,0.0,0.06820873,0.0,7.009674726,7.009674726,0\\n0.0,0.0,0.0,2.423072216,3.600614606,1.095957467,0\\n0.0,0.0,0.048370171,0.0,0.0,0.0,0\\n0.046402056,0.0,0.0,0.0,0.0,0.0,0\\n0.0,0.0,0.125109894,0.0,0.0,0.0,0\\n0.0,0.0,0.495459566,12.964780955,0.997054853,0.026076819,0\\n0.024496995,0.0,0.169029266,3.695779984,0.013065064,0.004082833,0\\n0.126262626,0.0,0.089031339,0.178062678,0.0,0.0,0\\n0.0,0.0,0.342702852,4.158589495,1.07887935,1.07887935,0\\n0.0,0.0,0.009876543,0.540740741,3.417283951,3.417283951,0\\n0.0,0.0,0.093454492,7.286125887,5.362736407,5.362736407,0\\n0.001013274,0.061809707,0.194548586,4.348971527,4.550613031,4.550613031,0\\n0.0,0.0,0.069741492,12.124170851,0.0,0.0,0\\n0.0,0.0,0.173299101,8.090500642,0.118741977,0.118741977,0\\n0.0,0.0,0.562080987,2.018771789,0.0,0.0,0\\n0.0,0.0,0.0,8.474266319,5.609766802,5.609766802,0\\n0.0,0.076864807,0.0,0.0,0.0,0.0,0\\n0.0,0.0,0.366119137,3.460815357,0.0,0.0,0\\n0.0,0.0,0.235437937,10.429447853,0.0,0.0,0\\n0.0,0.0,0.694371751,0.0,0.0,0.0,0\\n0.039284559,0.0,0.233396497,8.228959652,6.133012895,6.133012895,0\\n0.0,0.0,0.101015515,5.829625995,2.764938958,2.764938958,0\\n0.0,0.0,0.1,0.0,0.0,0.0,0\\n0.0,0.0,0.140763817,1.193031037,0.0,0.0,0\\n0.0,0.0,0.137115161,4.095916838,0.0,0.0,0\\n0.0,0.0,0.076660132,9.58125974,6.173025687,6.173025687,0\\n0.0,0.0,0.101961416,2.589283319,0.0,0.0,0\\n0.0,0.0,0.32228575,4.400440044,0.0,0.0,0\\n0.0,0.0,0.49909064,6.990894315,4.090005498,4.090005498,0\\n0.0,0.0,0.122647849,0.0,0.0,0.0,0\\n0.0,0.0,0.145933977,0.0,0.0,0.0,0\\n0.0,0.0,0.179773057,7.88857369,5.175484892,5.175484892,0\\n0.0,0.0,0.024805103,0.0,0.0,0.0,0\\n0.0,0.0,0.159848485,0.0,0.0,0.0,0\\n0.002906977,0.0,0.149418605,6.029651163,0.0,0.0,0\\n0.0,0.0,0.701011074,3.420959718,0.0,0.0,0\\n0.0,0.0,0.3986195,0.0,0.0,0.0,0\\n0.006931208,0.0,0.072777682,0.0,0.0,0.0,0\\n0.001619433,0.0,0.136842105,9.861538462,8.660728745,8.660728745,0\\n0.0,0.0,0.058479532,4.980506823,0.072124756,0.0,0\\n0.0,0.0,0.167883747,9.668452534,1.034365711,1.034365711,0\\n0.0,0.0,0.041262818,10.734478157,5.981352718,5.981352718,0\\n0.979401078,16.958948664,2.404184248,2.48769339,0.0,0.0,1\\n0.058665773,15.566543748,0.64867583,0.0,0.0,0.0,1\\n1.829063147,14.074792961,2.1875,0.0,0.0,0.0,1\\n2.804717308,0.152271939,0.107180021,0.0,0.0,0.0,1\\n2.510348847,0.0,0.133630737,0.0,0.0,0.0,1\\n0.0,0.0,0.222503718,0.0,0.0,0.0,1\\n6.507196996,0.0,0.175231208,0.0,0.0,0.0,1\\n4.677915738,0.0,0.293961583,0.0,0.0,0.0,1\\n3.118380316,0.0,0.300431807,0.0,0.0,0.0,1\\n4.06671025,0.0,0.150645216,0.0,0.0,0.0,1\\n0.0,0.0,1.19478171,0.0,0.0,0.0,1\\n3.195100354,0.0,0.380755608,0.0,0.0,0.0,1\\n0.355610904,7.673539043,0.158664268,0.275356303,0.0,0.0,1\\n0.663501119,4.680165379,0.034754821,0.0,0.0,0.0,1\\n0.501514993,5.802685195,2.626423571,0.0,0.0,0.0,1\\n1.448672089,3.566102811,0.060380396,0.0,0.0,0.0,1\\n0.858062038,0.0,0.229520791,0.0,0.0,0.0,1\\n2.046468542,4.588248639,0.060496068,0.0,0.0,0.0,1\\n5.3241237,0.0,0.083744238,0.0,0.0,0.0,1\\n3.059849386,21.512485137,4.97238737,0.0,0.0,0.0,1\\n1.87017211,19.164520938,1.432443421,0.0,0.0,0.0,1\\n1.181676162,6.996385642,0.0,0.0,0.0,0.0,1\\n1.657903494,0.0,0.071214642,0.0,0.0,0.0,1\\n1.375206612,14.950413223,1.574380165,0.0,0.0,0.0,1\\n2.107477925,32.308912804,0.172461369,0.0,0.0,0.0,1\\n0.480936756,0.0,0.095098438,0.0,0.0,0.0,1\\n1.405737574,0.084906762,0.102418781,0.0,0.0,0.0,1\\n1.429483853,0.0,0.112570356,0.0,0.0,0.0,1\\n1.623553703,13.843546691,1.437531653,0.0,0.0,0.0,1\\n4.966005609,0.0,0.10440414,0.0,0.0,0.0,1\\n1.365418968,12.872923639,1.497854342,0.0,0.0,0.0,1\\n1.475956065,10.607126113,0.0,0.0,0.0,0.0,1\\n2.580283794,13.434466019,1.690627334,0.0,0.0,0.0,1\\n1.208582988,13.390433758,1.592026425,0.0,0.0,0.0,1\\n0.308702684,9.513506425,0.713021243,0.0,0.0,0.0,1\\n2.111849548,0.273614253,0.134332579,0.0,0.0,0.0,1\\n0.312468394,0.187906888,0.0,0.0,0.0,0.0,1\\n1.699590092,3.907748997,0.0,0.0,0.0,0.0,1\\n1.261645963,0.046760305,0.044995765,0.0,0.0,0.0,1\\n4.183953033,0.0,0.129158513,0.0,0.0,0.0,1\\n0.307761177,16.612575308,0.0,0.0,0.0,0.0,1\\n7.688952498,0.0,0.069515437,0.0,0.0,0.0,1\\n0.0,0.063628651,0.0,0.0,0.0,0.0,1\\n0.0,0.039908211,0.633542851,0.0,0.0,0.0,1\\n0.0,0.024797844,0.201617251,0.0,0.0,0.0,1\\n0.092525727,0.178281278,0.146687128,0.0,0.0,0.0,1\\n0.028179839,11.469194313,0.174202639,0.0,0.0,0.0,1\\n0.491803279,0.0,0.195081967,0.0,0.0,0.0,1\\n0.191131498,0.0,0.076452599,0.0,0.0,0.0,1\\n1.085376162,8.202874049,0.22541561,0.0,0.0,0.0,1\\n0.138848864,7.372088758,0.192554557,0.0,0.0,0.0,1\\n0.078528726,8.650825818,0.196321816,0.525635829,0.0,0.0,1\\n0.070499893,9.101044382,0.226255472,0.0,0.0,0.0,1\\n0.018296095,0.0,0.128072668,0.0,0.0,0.0,1\\n0.072990481,0.0,0.0304127,0.0,0.0,0.0,1\\n0.039355119,0.0,0.176419498,0.0,0.0,0.0,1\\n0.028068487,0.0,0.0,0.0,0.0,0.0,1\\n1.207367796,0.007130125,0.411170529,0.0,0.0,0.0,1\\n0.0,0.0,0.195828012,0.0,0.0,0.0,1\\n0.660317686,0.0,0.0,0.0,0.0,0.0,1\\n0.0,0.155041727,0.140366996,0.0,0.0,0.0,1\\n0.058665773,15.566543748,0.64867583,0.0,0.0,0.0,1\\n0.058696928,0.052827235,0.138916063,0.0,0.0,0.0,1\\n0.516451479,0.00666389,0.0,0.0,0.0,0.0,1\\n0.112978525,0.0,0.253034547,0.0,0.0,0.0,1\\n1.399440542,2.311739089,0.178804158,0.0,0.0,0.0,1\\n0.051243533,0.0,0.036502243,0.0,0.0,0.0,1\\n1.619217082,0.0,0.15658363,0.0,0.0,0.0,1\\n1.242105263,0.0,0.114127424,0.0,0.0,0.0,1\\n1.862687235,8.791415663,0.221833279,0.0,0.0,0.0,1\\n0.171260997,5.309090909,0.127859238,0.0,0.0,0.0,1\\n0.842998586,11.237623762,0.178217822,0.0,0.0,0.0,1\\n2.599648343,0.0,0.170742694,0.0,0.0,0.0,1\\n0.023988486,0.0,0.011423088,0.0,0.0,0.0,1\\n0.120609675,0.0,0.096090126,0.0,0.0,0.0,1\\n0.42369338,0.0,1.361207898,0.0,0.0,0.0,1\\n0.773406766,7.593233674,0.0,0.0,0.0,0.0,1\\n0.0,0.0,0.143328579,0.0,0.0,0.0,1\\n0.942271339,9.738548786,0.077940963,0.0,0.0,0.0,1\\n0.065261372,0.024146708,0.274097762,0.0,0.0,0.0,1\\n8.468309859,0.0,0.278755869,0.0,0.0,0.0,1\\n0.462344029,0.325868984,0.182895128,0.0,0.0,0.0,1\\n0.258885898,4.702521562,0.315195297,0.0,0.0,0.0,1\\n0.291149711,0.0,0.127377998,0.0,0.0,0.0,1\\n0.902278636,0.0,0.102879228,0.0,0.0,0.0,1\\n0.000558659,0.0,0.094413408,0.0,0.0,0.0,1\\n1.954776665,12.935145446,0.020664441,0.0,0.0,0.0,1\\n2.836879433,0.0,0.166272656,0.0,0.0,0.0,1\\n1.765465465,0.0,0.221021021,0.077177177,0.0,0.0,1\\n3.856391115,0.001529707,0.10402007,0.0,0.0,0.0,1\\n3.52862254,0.0,0.154541841,0.0,0.0,0.0,1\\n1.630342605,11.98906038,0.136391904,0.0,0.0,0.0,1\\n6.814814815,0.0,0.086140439,0.0,0.0,0.0,1\\n7.385644191,0.0,0.11119025,0.0,0.0,0.0,1\\n1.684732624,1.178557351,0.141242938,0.0,0.0,0.0,1\\n1.587927248,0.0,0.270285489,0.0,0.0,0.0,1\\n9.431089476,0.0,0.148923638,0.0,0.0,0.0,1\\n3.25017819,0.0,0.334348474,0.0,0.0,0.0,1\\n0.752833109,10.047759306,1.163529862,0.0,0.0,0.0,1\\n0.0,0.017687075,0.18877551,0.0,0.0,0.0,1\\n0.0,0.0,0.103598232,0.0,0.0,0.0,1\\n0.0,0.0,1.157139824,0.0,0.0,0.0,1\\n0.0,0.0,0.021648145,0.0,0.0,0.0,1\\n0.0,0.0,0.079567656,0.0,0.0,0.0,1\\n6.485411788,0.0,0.171984778,0.0,0.0,0.0,1\\n0.0,0.0,0.161636882,0.0,0.0,0.0,1\\n4.264975221,0.0,0.329939668,0.0,0.0,0.0,1\\n1.429133481,0.0,0.034558659,0.0,0.0,0.0,1\\n0.853902001,13.744247745,0.161778023,0.0,0.0,0.0,1\\n'"
            ],
            "application/vnd.google.colaboratory.intrinsic+json": {
              "type": "string"
            }
          },
          "metadata": {},
          "execution_count": 13
        }
      ]
    },
    {
      "cell_type": "code",
      "source": [
        "with open('features.csv', 'w') as file:\n",
        "  for l in export:\n",
        "    file.write(l)\n",
        "file.close"
      ],
      "metadata": {
        "colab": {
          "base_uri": "https://localhost:8080/"
        },
        "id": "FqBj0l4zix2B",
        "outputId": "c3fa9427-9c27-4f80-bbd7-f3b6e70f4c6d"
      },
      "execution_count": null,
      "outputs": [
        {
          "output_type": "execute_result",
          "data": {
            "text/plain": [
              "<function TextIOWrapper.close>"
            ]
          },
          "metadata": {},
          "execution_count": 14
        }
      ]
    },
    {
      "cell_type": "code",
      "source": [
        "dataset = pd.read_csv('features.csv')\n",
        "dataset"
      ],
      "metadata": {
        "colab": {
          "base_uri": "https://localhost:8080/",
          "height": 424
        },
        "id": "GnkgFPF8jLl-",
        "outputId": "26df7c64-f2e6-4323-f12e-4817366286fb"
      },
      "execution_count": null,
      "outputs": [
        {
          "output_type": "execute_result",
          "data": {
            "text/plain": [
              "         CHIN      PANTS     SHOES    TSHIRT     SHORT   SNEAKERS   CLASS\n",
              "0    0.000000   0.000000  0.114799  6.886102  3.495204   3.495204       0\n",
              "1    0.000000   0.000000  0.110078  5.004901  3.183889   3.183889       0\n",
              "2    0.000000   0.000000  0.182519  5.264620  5.029683   5.029683       0\n",
              "3    0.000000   0.480168  0.080028  0.000000  0.000000   0.000000       0\n",
              "4    0.000000   0.000000  0.029708  8.978929  3.459119   3.459119       0\n",
              "..        ...        ...       ...       ...       ...        ...     ...\n",
              "264  6.485412   0.000000  0.171985  0.000000  0.000000   0.000000       1\n",
              "265  0.000000   0.000000  0.161637  0.000000  0.000000   0.000000       1\n",
              "266  4.264975   0.000000  0.329940  0.000000  0.000000   0.000000       1\n",
              "267  1.429133   0.000000  0.034559  0.000000  0.000000   0.000000       1\n",
              "268  0.853902  13.744248  0.161778  0.000000  0.000000   0.000000       1\n",
              "\n",
              "[269 rows x 7 columns]"
            ],
            "text/html": [
              "\n",
              "  <div id=\"df-e59194c8-1b2d-4db5-a1b5-f32cb98166af\">\n",
              "    <div class=\"colab-df-container\">\n",
              "      <div>\n",
              "<style scoped>\n",
              "    .dataframe tbody tr th:only-of-type {\n",
              "        vertical-align: middle;\n",
              "    }\n",
              "\n",
              "    .dataframe tbody tr th {\n",
              "        vertical-align: top;\n",
              "    }\n",
              "\n",
              "    .dataframe thead th {\n",
              "        text-align: right;\n",
              "    }\n",
              "</style>\n",
              "<table border=\"1\" class=\"dataframe\">\n",
              "  <thead>\n",
              "    <tr style=\"text-align: right;\">\n",
              "      <th></th>\n",
              "      <th>CHIN</th>\n",
              "      <th>PANTS</th>\n",
              "      <th>SHOES</th>\n",
              "      <th>TSHIRT</th>\n",
              "      <th>SHORT</th>\n",
              "      <th>SNEAKERS</th>\n",
              "      <th>CLASS</th>\n",
              "    </tr>\n",
              "  </thead>\n",
              "  <tbody>\n",
              "    <tr>\n",
              "      <th>0</th>\n",
              "      <td>0.000000</td>\n",
              "      <td>0.000000</td>\n",
              "      <td>0.114799</td>\n",
              "      <td>6.886102</td>\n",
              "      <td>3.495204</td>\n",
              "      <td>3.495204</td>\n",
              "      <td>0</td>\n",
              "    </tr>\n",
              "    <tr>\n",
              "      <th>1</th>\n",
              "      <td>0.000000</td>\n",
              "      <td>0.000000</td>\n",
              "      <td>0.110078</td>\n",
              "      <td>5.004901</td>\n",
              "      <td>3.183889</td>\n",
              "      <td>3.183889</td>\n",
              "      <td>0</td>\n",
              "    </tr>\n",
              "    <tr>\n",
              "      <th>2</th>\n",
              "      <td>0.000000</td>\n",
              "      <td>0.000000</td>\n",
              "      <td>0.182519</td>\n",
              "      <td>5.264620</td>\n",
              "      <td>5.029683</td>\n",
              "      <td>5.029683</td>\n",
              "      <td>0</td>\n",
              "    </tr>\n",
              "    <tr>\n",
              "      <th>3</th>\n",
              "      <td>0.000000</td>\n",
              "      <td>0.480168</td>\n",
              "      <td>0.080028</td>\n",
              "      <td>0.000000</td>\n",
              "      <td>0.000000</td>\n",
              "      <td>0.000000</td>\n",
              "      <td>0</td>\n",
              "    </tr>\n",
              "    <tr>\n",
              "      <th>4</th>\n",
              "      <td>0.000000</td>\n",
              "      <td>0.000000</td>\n",
              "      <td>0.029708</td>\n",
              "      <td>8.978929</td>\n",
              "      <td>3.459119</td>\n",
              "      <td>3.459119</td>\n",
              "      <td>0</td>\n",
              "    </tr>\n",
              "    <tr>\n",
              "      <th>...</th>\n",
              "      <td>...</td>\n",
              "      <td>...</td>\n",
              "      <td>...</td>\n",
              "      <td>...</td>\n",
              "      <td>...</td>\n",
              "      <td>...</td>\n",
              "      <td>...</td>\n",
              "    </tr>\n",
              "    <tr>\n",
              "      <th>264</th>\n",
              "      <td>6.485412</td>\n",
              "      <td>0.000000</td>\n",
              "      <td>0.171985</td>\n",
              "      <td>0.000000</td>\n",
              "      <td>0.000000</td>\n",
              "      <td>0.000000</td>\n",
              "      <td>1</td>\n",
              "    </tr>\n",
              "    <tr>\n",
              "      <th>265</th>\n",
              "      <td>0.000000</td>\n",
              "      <td>0.000000</td>\n",
              "      <td>0.161637</td>\n",
              "      <td>0.000000</td>\n",
              "      <td>0.000000</td>\n",
              "      <td>0.000000</td>\n",
              "      <td>1</td>\n",
              "    </tr>\n",
              "    <tr>\n",
              "      <th>266</th>\n",
              "      <td>4.264975</td>\n",
              "      <td>0.000000</td>\n",
              "      <td>0.329940</td>\n",
              "      <td>0.000000</td>\n",
              "      <td>0.000000</td>\n",
              "      <td>0.000000</td>\n",
              "      <td>1</td>\n",
              "    </tr>\n",
              "    <tr>\n",
              "      <th>267</th>\n",
              "      <td>1.429133</td>\n",
              "      <td>0.000000</td>\n",
              "      <td>0.034559</td>\n",
              "      <td>0.000000</td>\n",
              "      <td>0.000000</td>\n",
              "      <td>0.000000</td>\n",
              "      <td>1</td>\n",
              "    </tr>\n",
              "    <tr>\n",
              "      <th>268</th>\n",
              "      <td>0.853902</td>\n",
              "      <td>13.744248</td>\n",
              "      <td>0.161778</td>\n",
              "      <td>0.000000</td>\n",
              "      <td>0.000000</td>\n",
              "      <td>0.000000</td>\n",
              "      <td>1</td>\n",
              "    </tr>\n",
              "  </tbody>\n",
              "</table>\n",
              "<p>269 rows × 7 columns</p>\n",
              "</div>\n",
              "      <button class=\"colab-df-convert\" onclick=\"convertToInteractive('df-e59194c8-1b2d-4db5-a1b5-f32cb98166af')\"\n",
              "              title=\"Convert this dataframe to an interactive table.\"\n",
              "              style=\"display:none;\">\n",
              "        \n",
              "  <svg xmlns=\"http://www.w3.org/2000/svg\" height=\"24px\"viewBox=\"0 0 24 24\"\n",
              "       width=\"24px\">\n",
              "    <path d=\"M0 0h24v24H0V0z\" fill=\"none\"/>\n",
              "    <path d=\"M18.56 5.44l.94 2.06.94-2.06 2.06-.94-2.06-.94-.94-2.06-.94 2.06-2.06.94zm-11 1L8.5 8.5l.94-2.06 2.06-.94-2.06-.94L8.5 2.5l-.94 2.06-2.06.94zm10 10l.94 2.06.94-2.06 2.06-.94-2.06-.94-.94-2.06-.94 2.06-2.06.94z\"/><path d=\"M17.41 7.96l-1.37-1.37c-.4-.4-.92-.59-1.43-.59-.52 0-1.04.2-1.43.59L10.3 9.45l-7.72 7.72c-.78.78-.78 2.05 0 2.83L4 21.41c.39.39.9.59 1.41.59.51 0 1.02-.2 1.41-.59l7.78-7.78 2.81-2.81c.8-.78.8-2.07 0-2.86zM5.41 20L4 18.59l7.72-7.72 1.47 1.35L5.41 20z\"/>\n",
              "  </svg>\n",
              "      </button>\n",
              "      \n",
              "  <style>\n",
              "    .colab-df-container {\n",
              "      display:flex;\n",
              "      flex-wrap:wrap;\n",
              "      gap: 12px;\n",
              "    }\n",
              "\n",
              "    .colab-df-convert {\n",
              "      background-color: #E8F0FE;\n",
              "      border: none;\n",
              "      border-radius: 50%;\n",
              "      cursor: pointer;\n",
              "      display: none;\n",
              "      fill: #1967D2;\n",
              "      height: 32px;\n",
              "      padding: 0 0 0 0;\n",
              "      width: 32px;\n",
              "    }\n",
              "\n",
              "    .colab-df-convert:hover {\n",
              "      background-color: #E2EBFA;\n",
              "      box-shadow: 0px 1px 2px rgba(60, 64, 67, 0.3), 0px 1px 3px 1px rgba(60, 64, 67, 0.15);\n",
              "      fill: #174EA6;\n",
              "    }\n",
              "\n",
              "    [theme=dark] .colab-df-convert {\n",
              "      background-color: #3B4455;\n",
              "      fill: #D2E3FC;\n",
              "    }\n",
              "\n",
              "    [theme=dark] .colab-df-convert:hover {\n",
              "      background-color: #434B5C;\n",
              "      box-shadow: 0px 1px 3px 1px rgba(0, 0, 0, 0.15);\n",
              "      filter: drop-shadow(0px 1px 2px rgba(0, 0, 0, 0.3));\n",
              "      fill: #FFFFFF;\n",
              "    }\n",
              "  </style>\n",
              "\n",
              "      <script>\n",
              "        const buttonEl =\n",
              "          document.querySelector('#df-e59194c8-1b2d-4db5-a1b5-f32cb98166af button.colab-df-convert');\n",
              "        buttonEl.style.display =\n",
              "          google.colab.kernel.accessAllowed ? 'block' : 'none';\n",
              "\n",
              "        async function convertToInteractive(key) {\n",
              "          const element = document.querySelector('#df-e59194c8-1b2d-4db5-a1b5-f32cb98166af');\n",
              "          const dataTable =\n",
              "            await google.colab.kernel.invokeFunction('convertToInteractive',\n",
              "                                                     [key], {});\n",
              "          if (!dataTable) return;\n",
              "\n",
              "          const docLinkHtml = 'Like what you see? Visit the ' +\n",
              "            '<a target=\"_blank\" href=https://colab.research.google.com/notebooks/data_table.ipynb>data table notebook</a>'\n",
              "            + ' to learn more about interactive tables.';\n",
              "          element.innerHTML = '';\n",
              "          dataTable['output_type'] = 'display_data';\n",
              "          await google.colab.output.renderOutput(dataTable, element);\n",
              "          const docLink = document.createElement('div');\n",
              "          docLink.innerHTML = docLinkHtml;\n",
              "          element.appendChild(docLink);\n",
              "        }\n",
              "      </script>\n",
              "    </div>\n",
              "  </div>\n",
              "  "
            ]
          },
          "metadata": {},
          "execution_count": 15
        }
      ]
    },
    {
      "cell_type": "code",
      "source": [
        "X = dataset.iloc[:, 0:6].values\n",
        "y = dataset.iloc[:, 6].values"
      ],
      "metadata": {
        "id": "hl9n0wPemQN_"
      },
      "execution_count": null,
      "outputs": []
    },
    {
      "cell_type": "markdown",
      "source": [
        "Split training and test sets:\n"
      ],
      "metadata": {
        "id": "1MmpvQyrmQqY"
      }
    },
    {
      "cell_type": "code",
      "source": [
        "from sklearn.model_selection import train_test_split"
      ],
      "metadata": {
        "id": "focEFYzDnOiH"
      },
      "execution_count": null,
      "outputs": []
    },
    {
      "cell_type": "code",
      "source": [
        "X_train, X_test, y_train, y_test = train_test_split(X, y, test_size = 0.2, random_state = 1)"
      ],
      "metadata": {
        "id": "1ZsCK12pnV8D"
      },
      "execution_count": null,
      "outputs": []
    },
    {
      "cell_type": "markdown",
      "source": [
        "Building and training the neural network:"
      ],
      "metadata": {
        "id": "lYx29Pg-n24f"
      }
    },
    {
      "cell_type": "code",
      "source": [
        "network2 = tf.keras.Sequential()\n",
        "network2.add(tf.keras.layers.Dense(input_shape = (6,), units = 4, activation='relu'))\n",
        "network2.add(tf.keras.layers.Dense(units = 4, activation='relu'))\n",
        "network2.add(tf.keras.layers.Dense(units = 4, activation='relu'))\n",
        "# Sigmoid because we have a binary classification\n",
        "network2.add(tf.keras.layers.Dense(units = 1, activation='sigmoid'))"
      ],
      "metadata": {
        "id": "Ega8OJBMnhRZ"
      },
      "execution_count": null,
      "outputs": []
    },
    {
      "cell_type": "code",
      "source": [
        "network2.summary()"
      ],
      "metadata": {
        "colab": {
          "base_uri": "https://localhost:8080/"
        },
        "id": "JDPsACvqn46T",
        "outputId": "c20ec51a-994c-47ed-dfd5-4ca0010d0b1a"
      },
      "execution_count": null,
      "outputs": [
        {
          "output_type": "stream",
          "name": "stdout",
          "text": [
            "Model: \"sequential_1\"\n",
            "_________________________________________________________________\n",
            " Layer (type)                Output Shape              Param #   \n",
            "=================================================================\n",
            " dense (Dense)               (None, 4)                 28        \n",
            "                                                                 \n",
            " dense_1 (Dense)             (None, 4)                 20        \n",
            "                                                                 \n",
            " dense_2 (Dense)             (None, 4)                 20        \n",
            "                                                                 \n",
            " dense_3 (Dense)             (None, 1)                 5         \n",
            "                                                                 \n",
            "=================================================================\n",
            "Total params: 73\n",
            "Trainable params: 73\n",
            "Non-trainable params: 0\n",
            "_________________________________________________________________\n"
          ]
        }
      ]
    },
    {
      "cell_type": "code",
      "source": [
        "network2.compile(optimizer='Adam', loss='binary_crossentropy', metrics = ['accuracy'])"
      ],
      "metadata": {
        "id": "huNoB3qcpXEY"
      },
      "execution_count": null,
      "outputs": []
    },
    {
      "cell_type": "code",
      "source": [
        "history = network2.fit(X_train, y_train, epochs = 50)"
      ],
      "metadata": {
        "colab": {
          "base_uri": "https://localhost:8080/"
        },
        "id": "awDNq4jTpiDB",
        "outputId": "6f220cbd-2bd4-4053-892d-003c9119e165"
      },
      "execution_count": null,
      "outputs": [
        {
          "output_type": "stream",
          "name": "stdout",
          "text": [
            "Epoch 1/50\n",
            "7/7 [==============================] - 2s 4ms/step - loss: 0.9550 - accuracy: 0.6326\n",
            "Epoch 2/50\n",
            "7/7 [==============================] - 0s 3ms/step - loss: 0.9298 - accuracy: 0.6186\n",
            "Epoch 3/50\n",
            "7/7 [==============================] - 0s 4ms/step - loss: 0.9083 - accuracy: 0.6233\n",
            "Epoch 4/50\n",
            "7/7 [==============================] - 0s 5ms/step - loss: 0.8857 - accuracy: 0.6233\n",
            "Epoch 5/50\n",
            "7/7 [==============================] - 0s 3ms/step - loss: 0.8685 - accuracy: 0.6186\n",
            "Epoch 6/50\n",
            "7/7 [==============================] - 0s 3ms/step - loss: 0.8506 - accuracy: 0.6140\n",
            "Epoch 7/50\n",
            "7/7 [==============================] - 0s 5ms/step - loss: 0.8321 - accuracy: 0.6140\n",
            "Epoch 8/50\n",
            "7/7 [==============================] - 0s 3ms/step - loss: 0.8165 - accuracy: 0.6140\n",
            "Epoch 9/50\n",
            "7/7 [==============================] - 0s 7ms/step - loss: 0.8010 - accuracy: 0.6093\n",
            "Epoch 10/50\n",
            "7/7 [==============================] - 0s 3ms/step - loss: 0.7879 - accuracy: 0.6093\n",
            "Epoch 11/50\n",
            "7/7 [==============================] - 0s 3ms/step - loss: 0.7746 - accuracy: 0.6093\n",
            "Epoch 12/50\n",
            "7/7 [==============================] - 0s 6ms/step - loss: 0.7619 - accuracy: 0.6093\n",
            "Epoch 13/50\n",
            "7/7 [==============================] - 0s 3ms/step - loss: 0.7503 - accuracy: 0.6093\n",
            "Epoch 14/50\n",
            "7/7 [==============================] - 0s 3ms/step - loss: 0.7392 - accuracy: 0.6140\n",
            "Epoch 15/50\n",
            "7/7 [==============================] - 0s 6ms/step - loss: 0.7288 - accuracy: 0.6140\n",
            "Epoch 16/50\n",
            "7/7 [==============================] - 0s 4ms/step - loss: 0.7182 - accuracy: 0.6140\n",
            "Epoch 17/50\n",
            "7/7 [==============================] - 0s 3ms/step - loss: 0.7084 - accuracy: 0.6140\n",
            "Epoch 18/50\n",
            "7/7 [==============================] - 0s 3ms/step - loss: 0.6985 - accuracy: 0.6140\n",
            "Epoch 19/50\n",
            "7/7 [==============================] - 0s 3ms/step - loss: 0.6871 - accuracy: 0.6140\n",
            "Epoch 20/50\n",
            "7/7 [==============================] - 0s 3ms/step - loss: 0.6759 - accuracy: 0.6140\n",
            "Epoch 21/50\n",
            "7/7 [==============================] - 0s 3ms/step - loss: 0.6613 - accuracy: 0.6140\n",
            "Epoch 22/50\n",
            "7/7 [==============================] - 0s 3ms/step - loss: 0.6407 - accuracy: 0.6233\n",
            "Epoch 23/50\n",
            "7/7 [==============================] - 0s 3ms/step - loss: 0.6146 - accuracy: 0.7163\n",
            "Epoch 24/50\n",
            "7/7 [==============================] - 0s 4ms/step - loss: 0.5873 - accuracy: 0.7488\n",
            "Epoch 25/50\n",
            "7/7 [==============================] - 0s 6ms/step - loss: 0.5587 - accuracy: 0.7535\n",
            "Epoch 26/50\n",
            "7/7 [==============================] - 0s 6ms/step - loss: 0.5325 - accuracy: 0.7674\n",
            "Epoch 27/50\n",
            "7/7 [==============================] - 0s 6ms/step - loss: 0.5077 - accuracy: 0.7721\n",
            "Epoch 28/50\n",
            "7/7 [==============================] - 0s 5ms/step - loss: 0.4869 - accuracy: 0.7767\n",
            "Epoch 29/50\n",
            "7/7 [==============================] - 0s 5ms/step - loss: 0.4700 - accuracy: 0.7814\n",
            "Epoch 30/50\n",
            "7/7 [==============================] - 0s 5ms/step - loss: 0.4544 - accuracy: 0.7860\n",
            "Epoch 31/50\n",
            "7/7 [==============================] - 0s 4ms/step - loss: 0.4407 - accuracy: 0.7814\n",
            "Epoch 32/50\n",
            "7/7 [==============================] - 0s 5ms/step - loss: 0.4287 - accuracy: 0.7814\n",
            "Epoch 33/50\n",
            "7/7 [==============================] - 0s 4ms/step - loss: 0.4190 - accuracy: 0.7721\n",
            "Epoch 34/50\n",
            "7/7 [==============================] - 0s 4ms/step - loss: 0.4097 - accuracy: 0.7814\n",
            "Epoch 35/50\n",
            "7/7 [==============================] - 0s 3ms/step - loss: 0.4013 - accuracy: 0.7953\n",
            "Epoch 36/50\n",
            "7/7 [==============================] - 0s 5ms/step - loss: 0.3939 - accuracy: 0.7907\n",
            "Epoch 37/50\n",
            "7/7 [==============================] - 0s 4ms/step - loss: 0.3869 - accuracy: 0.8000\n",
            "Epoch 38/50\n",
            "7/7 [==============================] - 0s 4ms/step - loss: 0.3806 - accuracy: 0.8000\n",
            "Epoch 39/50\n",
            "7/7 [==============================] - 0s 3ms/step - loss: 0.3746 - accuracy: 0.8047\n",
            "Epoch 40/50\n",
            "7/7 [==============================] - 0s 3ms/step - loss: 0.3690 - accuracy: 0.8000\n",
            "Epoch 41/50\n",
            "7/7 [==============================] - 0s 3ms/step - loss: 0.3639 - accuracy: 0.8000\n",
            "Epoch 42/50\n",
            "7/7 [==============================] - 0s 4ms/step - loss: 0.3590 - accuracy: 0.8047\n",
            "Epoch 43/50\n",
            "7/7 [==============================] - 0s 3ms/step - loss: 0.3543 - accuracy: 0.8605\n",
            "Epoch 44/50\n",
            "7/7 [==============================] - 0s 4ms/step - loss: 0.3501 - accuracy: 0.8837\n",
            "Epoch 45/50\n",
            "7/7 [==============================] - 0s 3ms/step - loss: 0.3459 - accuracy: 0.8791\n",
            "Epoch 46/50\n",
            "7/7 [==============================] - 0s 3ms/step - loss: 0.3418 - accuracy: 0.8884\n",
            "Epoch 47/50\n",
            "7/7 [==============================] - 0s 3ms/step - loss: 0.3380 - accuracy: 0.8884\n",
            "Epoch 48/50\n",
            "7/7 [==============================] - 0s 3ms/step - loss: 0.3342 - accuracy: 0.8977\n",
            "Epoch 49/50\n",
            "7/7 [==============================] - 0s 3ms/step - loss: 0.3304 - accuracy: 0.9023\n",
            "Epoch 50/50\n",
            "7/7 [==============================] - 0s 3ms/step - loss: 0.3274 - accuracy: 0.8977\n"
          ]
        }
      ]
    },
    {
      "cell_type": "markdown",
      "source": [
        "Evaluate the network:"
      ],
      "metadata": {
        "id": "C1gUSDPbsXKh"
      }
    },
    {
      "cell_type": "code",
      "source": [
        "history.history.keys()"
      ],
      "metadata": {
        "colab": {
          "base_uri": "https://localhost:8080/"
        },
        "id": "RzrE6epesanv",
        "outputId": "354b46f8-f88a-43f5-d216-14e08580de23"
      },
      "execution_count": null,
      "outputs": [
        {
          "output_type": "execute_result",
          "data": {
            "text/plain": [
              "dict_keys(['loss', 'accuracy'])"
            ]
          },
          "metadata": {},
          "execution_count": 24
        }
      ]
    },
    {
      "cell_type": "code",
      "source": [
        "plt.plot(history.history['loss']);"
      ],
      "metadata": {
        "colab": {
          "base_uri": "https://localhost:8080/",
          "height": 265
        },
        "id": "2Ltz7uiysg_G",
        "outputId": "35b80cf7-5923-4395-8935-262535151d25"
      },
      "execution_count": null,
      "outputs": [
        {
          "output_type": "display_data",
          "data": {
            "text/plain": [
              "<Figure size 432x288 with 1 Axes>"
            ],
            "image/png": "[encoded data removed]"
          },
          "metadata": {
            "needs_background": "light"
          }
        }
      ]
    },
    {
      "cell_type": "code",
      "source": [
        "plt.plot(history.history['accuracy']);"
      ],
      "metadata": {
        "colab": {
          "base_uri": "https://localhost:8080/",
          "height": 265
        },
        "id": "XzRFeVQDsozS",
        "outputId": "f4c89351-1db4-4c74-8abe-3a5e267b2b64"
      },
      "execution_count": null,
      "outputs": [
        {
          "output_type": "display_data",
          "data": {
            "text/plain": [
              "<Figure size 432x288 with 1 Axes>"
            ],
            "image/png": "[encoded data removed]"
          },
          "metadata": {
            "needs_background": "light"
          }
        }
      ]
    },
    {
      "cell_type": "code",
      "source": [
        "predictions = network2.predict(X_test)"
      ],
      "metadata": {
        "id": "H_cfN_S-stSY"
      },
      "execution_count": null,
      "outputs": []
    },
    {
      "cell_type": "code",
      "source": [
        "predictions = (predictions > 0.5)"
      ],
      "metadata": {
        "id": "X-uMjfswtJyk"
      },
      "execution_count": null,
      "outputs": []
    },
    {
      "cell_type": "code",
      "source": [
        "from sklearn.metrics import accuracy_score\n",
        "accuracy_score(y_test, predictions)"
      ],
      "metadata": {
        "colab": {
          "base_uri": "https://localhost:8080/"
        },
        "id": "ydZDUJdctU0v",
        "outputId": "ca723c09-fe5a-446e-83b6-1508643b98c3"
      },
      "execution_count": null,
      "outputs": [
        {
          "output_type": "execute_result",
          "data": {
            "text/plain": [
              "0.9074074074074074"
            ]
          },
          "metadata": {},
          "execution_count": 30
        }
      ]
    },
    {
      "cell_type": "markdown",
      "source": [
        "Confusion matrix:"
      ],
      "metadata": {
        "id": "Z3-nqh4ttwPv"
      }
    },
    {
      "cell_type": "code",
      "source": [
        "from sklearn.metrics import confusion_matrix\n",
        "cm = confusion_matrix(y_test, predictions)\n",
        "cm"
      ],
      "metadata": {
        "colab": {
          "base_uri": "https://localhost:8080/"
        },
        "id": "w9zARumztc0m",
        "outputId": "28e587d5-3ff7-4c82-926e-fad31fa38b02"
      },
      "execution_count": null,
      "outputs": [
        {
          "output_type": "execute_result",
          "data": {
            "text/plain": [
              "array([[26,  2],\n",
              "       [ 3, 23]])"
            ]
          },
          "metadata": {},
          "execution_count": 31
        }
      ]
    },
    {
      "cell_type": "code",
      "source": [
        "sns.heatmap(cm, annot=True)"
      ],
      "metadata": {
        "colab": {
          "base_uri": "https://localhost:8080/",
          "height": 283
        },
        "id": "jwviB5CbtoBk",
        "outputId": "d53881f3-6062-41c1-abb1-9a38aff7184e"
      },
      "execution_count": null,
      "outputs": [
        {
          "output_type": "execute_result",
          "data": {
            "text/plain": [
              "<matplotlib.axes._subplots.AxesSubplot at 0x7fb577d98ad0>"
            ]
          },
          "metadata": {},
          "execution_count": 32
        },
        {
          "output_type": "display_data",
          "data": {
            "text/plain": [
              "<Figure size 432x288 with 2 Axes>"
            ],
            "image/png": "[encoded data removed]"
          },
          "metadata": {
            "needs_background": "light"
          }
        }
      ]
    },
    {
      "cell_type": "code",
      "source": [
        "from sklearn.metrics import classification_report\n",
        "print(classification_report(y_test, predictions))"
      ],
      "metadata": {
        "colab": {
          "base_uri": "https://localhost:8080/"
        },
        "id": "DK1XIR4Ot0YG",
        "outputId": "04db602b-3f4d-4edf-9372-028718973655"
      },
      "execution_count": null,
      "outputs": [
        {
          "output_type": "stream",
          "name": "stdout",
          "text": [
            "              precision    recall  f1-score   support\n",
            "\n",
            "           0       0.90      0.93      0.91        28\n",
            "           1       0.92      0.88      0.90        26\n",
            "\n",
            "    accuracy                           0.91        54\n",
            "   macro avg       0.91      0.91      0.91        54\n",
            "weighted avg       0.91      0.91      0.91        54\n",
            "\n"
          ]
        }
      ]
    },
    {
      "cell_type": "markdown",
      "source": [
        "Save the model:"
      ],
      "metadata": {
        "id": "FEOxVGGwuru_"
      }
    },
    {
      "cell_type": "code",
      "source": [
        "model_json = network2.to_json()\n",
        "with open('network2.json', 'w') as json_file:\n",
        "  json_file.write(model_json)"
      ],
      "metadata": {
        "id": "BeaCtPfHvFiK"
      },
      "execution_count": null,
      "outputs": []
    },
    {
      "cell_type": "code",
      "source": [
        "from keras.models import save_model\n",
        "network2_saved = save_model(network2, 'weights.hdf5')"
      ],
      "metadata": {
        "id": "PEzFTc_HvK6P"
      },
      "execution_count": null,
      "outputs": []
    },
    {
      "cell_type": "code",
      "source": [
        "with open('network2.json') as json_file:\n",
        "  json_saved_model = json_file.read()"
      ],
      "metadata": {
        "id": "QIc6V94hveZ4"
      },
      "execution_count": null,
      "outputs": []
    },
    {
      "cell_type": "code",
      "source": [
        "network2_loaded = tf.keras.models.model_from_json(json_saved_model)\n",
        "network2_loaded.load_weights('/content/weights.hdf5')\n",
        "network2_loaded.compile(loss = 'binary_crossentropy', optimizer= 'Adam', metrics = ['accuracy'])"
      ],
      "metadata": {
        "id": "cZS1Iqm0veZ5"
      },
      "execution_count": null,
      "outputs": []
    },
    {
      "cell_type": "code",
      "source": [
        "network2_loaded.summary()"
      ],
      "metadata": {
        "colab": {
          "base_uri": "https://localhost:8080/"
        },
        "outputId": "92e77902-d875-4727-815a-111a733e4da7",
        "id": "az6EjK-zveZ5"
      },
      "execution_count": null,
      "outputs": [
        {
          "output_type": "stream",
          "name": "stdout",
          "text": [
            "Model: \"sequential_1\"\n",
            "_________________________________________________________________\n",
            " Layer (type)                Output Shape              Param #   \n",
            "=================================================================\n",
            " dense (Dense)               (None, 4)                 28        \n",
            "                                                                 \n",
            " dense_1 (Dense)             (None, 4)                 20        \n",
            "                                                                 \n",
            " dense_2 (Dense)             (None, 4)                 20        \n",
            "                                                                 \n",
            " dense_3 (Dense)             (None, 1)                 5         \n",
            "                                                                 \n",
            "=================================================================\n",
            "Total params: 73\n",
            "Trainable params: 73\n",
            "Non-trainable params: 0\n",
            "_________________________________________________________________\n"
          ]
        }
      ]
    },
    {
      "cell_type": "code",
      "source": [
        "test_image = X_test[33]\n",
        "test_image"
      ],
      "metadata": {
        "colab": {
          "base_uri": "https://localhost:8080/"
        },
        "id": "Fh04Xvwrvpim",
        "outputId": "f67eca45-ff5e-44ad-cfbb-81553f806ec9"
      },
      "execution_count": null,
      "outputs": [
        {
          "output_type": "execute_result",
          "data": {
            "text/plain": [
              "array([0.        , 0.15504173, 0.140367  , 0.        , 0.        ,\n",
              "       0.        ])"
            ]
          },
          "metadata": {},
          "execution_count": 42
        }
      ]
    },
    {
      "cell_type": "markdown",
      "source": [
        "Batch format:"
      ],
      "metadata": {
        "id": "y2YcqP3QwAbM"
      }
    },
    {
      "cell_type": "code",
      "source": [
        "test_image = test_image.reshape(1, -1)\n",
        "test_image.shape"
      ],
      "metadata": {
        "colab": {
          "base_uri": "https://localhost:8080/"
        },
        "id": "MzP03k0mvvCn",
        "outputId": "64682407-12fd-4c49-e8be-a7a6660d9bc0"
      },
      "execution_count": null,
      "outputs": [
        {
          "output_type": "execute_result",
          "data": {
            "text/plain": [
              "(1, 6)"
            ]
          },
          "metadata": {},
          "execution_count": 44
        }
      ]
    },
    {
      "cell_type": "code",
      "source": [
        "network2_loaded.predict(test_image)"
      ],
      "metadata": {
        "colab": {
          "base_uri": "https://localhost:8080/"
        },
        "id": "iBCO-h9rwRPc",
        "outputId": "2773c6f6-8427-4b5e-c2cf-6251e0e489b6"
      },
      "execution_count": null,
      "outputs": [
        {
          "output_type": "execute_result",
          "data": {
            "text/plain": [
              "array([[0.48087323]], dtype=float32)"
            ]
          },
          "metadata": {},
          "execution_count": 46
        }
      ]
    },
    {
      "cell_type": "code",
      "source": [
        "network2_loaded.predict(test_image)[0][0]"
      ],
      "metadata": {
        "colab": {
          "base_uri": "https://localhost:8080/"
        },
        "id": "MIlqAUIJwCdx",
        "outputId": "e6672a5b-70cd-450e-e292-bdf56464e466"
      },
      "execution_count": null,
      "outputs": [
        {
          "output_type": "execute_result",
          "data": {
            "text/plain": [
              "0.48087323"
            ]
          },
          "metadata": {},
          "execution_count": 45
        }
      ]
    },
    {
      "cell_type": "code",
      "source": [
        "if(network_loaded.predict(test_image))[0][0] < 0.5:\n",
        "  print('Bart')\n",
        "else:\n",
        "  print('Homer')"
      ],
      "metadata": {
        "id": "gEcf76J4wJ5H"
      },
      "execution_count": null,
      "outputs": []
    }
  ]
}